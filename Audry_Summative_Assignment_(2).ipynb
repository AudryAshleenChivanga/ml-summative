{
 "cells": [
  {
   "cell_type": "markdown",
   "metadata": {
    "id": "EAt-K2qgcIou"
   },
   "source": [
    "# Optimization Using Gradient Descent: Linear Regression"
   ]
  },
  {
   "cell_type": "markdown",
   "metadata": {
    "id": "FZYK-0rin5x7"
   },
   "source": [
    "In this assignment, you will build a simple linear regression model to predict sales based on TV marketing expenses. You will investigate three different approaches to this problem. You will use `NumPy` and `Scikit-Learn` linear regression models, as well as construct and optimize the sum of squares cost function with gradient descent from scratch.\n",
    "\n",
    "Further you will add additional cells to compare Linear regression and atleast 1 other algorithm"
   ]
  },
  {
   "cell_type": "markdown",
   "metadata": {
    "id": "Ywl11dna6rPV"
   },
   "source": [
    "# Table of Contents\n",
    "\n",
    "- [ 1 - Open the Dataset and State the Problem]\n",
    "  - [ Exercise 1]\n",
    "- [ 2 - Linear Regression in Python with `NumPy` and `Scikit-Learn`]\n",
    "  - [ 2.1 - Linear Regression with `NumPy`]\n",
    "    - [ Exercise 2]\n",
    "  - [ 2.2 - Linear Regression with `Scikit-Learn`]\n",
    "    - [ Exercise 3]\n",
    "    - [ Exercise 4]\n",
    "- [ 3 - Linear Regression using Gradient Descent]\n",
    "  - [ Exercise 5]\n",
    "  - [ Exercise 6]"
   ]
  },
  {
   "cell_type": "markdown",
   "metadata": {
    "id": "QMoxIfha6rPV"
   },
   "source": [
    "## Packages\n",
    "\n",
    "Load the required packages:"
   ]
  },
  {
   "cell_type": "code",
   "execution_count": null,
   "metadata": {
    "id": "jaaw4ei_6rPW"
   },
   "outputs": [],
   "source": [
    "import numpy as np\n",
    "# A library for programmatic plot generation.\n",
    "import matplotlib.pyplot as plt\n",
    "\n",
    "# A library for data manipulation and analysis.\n",
    "import pandas as pd\n",
    "# LinearRegression from sklearn.\n",
    "from sklearn.linear_model import LinearRegression\n",
    "from sklearn.model_selection import train_test_split\n",
    "from sklearn.model_selection import train_test_split\n",
    "from sklearn.metrics import mean_squared_error\n",
    "from sklearn.ensemble import RandomForestRegressor\n",
    "from sklearn.tree import DecisionTreeRegressor"
   ]
  },
  {
   "cell_type": "markdown",
   "metadata": {
    "id": "_jIkxZQI6rPX"
   },
   "source": [
    "Import the unit tests defined for this notebook."
   ]
  },
  {
   "cell_type": "code",
   "execution_count": null,
   "metadata": {
    "id": "2BA4_EOR6rPY"
   },
   "outputs": [],
   "source": [
    "import w2_unittest"
   ]
  },
  {
   "cell_type": "markdown",
   "metadata": {
    "id": "obKIZJlp6rPY"
   },
   "source": [
    "<a name='1'></a>\n",
    "## 1 - Open the Dataset and State the Problem"
   ]
  },
  {
   "cell_type": "markdown",
   "metadata": {
    "id": "68gkhFLw6rPY"
   },
   "source": [
    "In this lab, you will build a linear regression model for a simple Kaggle dataset, saved in a file `data/tvmarketing.csv`. The dataset has only two fields: TV marketing expenses (`TV`) and sales amount (`Sales`)."
   ]
  },
  {
   "cell_type": "markdown",
   "metadata": {
    "id": "htARQfsB6rPZ"
   },
   "source": [
    "<a name='ex01'></a>\n",
    "### Exercise 1\n",
    "\n",
    "Use `pandas` function `pd.read_csv` to open the .csv file the from the `path`."
   ]
  },
  {
   "cell_type": "code",
   "execution_count": null,
   "metadata": {
    "id": "oIpEVfK56rPZ"
   },
   "outputs": [],
   "source": [
    "path = \"Data/tvmarketing.csv\"\n",
    "\n",
    "### START CODE HERE ### (~ 1 line of code)\n",
    "adv = pd.read_csv(path)\n",
    "### END CODE HERE ###"
   ]
  },
  {
   "cell_type": "code",
   "execution_count": null,
   "metadata": {
    "colab": {
     "base_uri": "https://localhost:8080/",
     "height": 206
    },
    "id": "twBM6N2s6rPZ",
    "outputId": "47502546-848e-4a24-94ee-1e1a3fffc211"
   },
   "outputs": [
    {
     "data": {
      "application/vnd.google.colaboratory.intrinsic+json": {
       "summary": "{\n  \"name\": \"adv\",\n  \"rows\": 200,\n  \"fields\": [\n    {\n      \"column\": \"TV\",\n      \"properties\": {\n        \"dtype\": \"number\",\n        \"std\": 85.85423631490808,\n        \"min\": 0.7,\n        \"max\": 296.4,\n        \"num_unique_values\": 190,\n        \"samples\": [\n          287.6,\n          286.0,\n          78.2\n        ],\n        \"semantic_type\": \"\",\n        \"description\": \"\"\n      }\n    },\n    {\n      \"column\": \"Sales\",\n      \"properties\": {\n        \"dtype\": \"number\",\n        \"std\": 5.217456565710478,\n        \"min\": 1.6,\n        \"max\": 27.0,\n        \"num_unique_values\": 121,\n        \"samples\": [\n          11.4,\n          21.2,\n          12.9\n        ],\n        \"semantic_type\": \"\",\n        \"description\": \"\"\n      }\n    }\n  ]\n}",
       "type": "dataframe",
       "variable_name": "adv"
      },
      "text/html": [
       "\n",
       "  <div id=\"df-d7ca759c-31c0-4f42-a1be-3ca785b1b15b\" class=\"colab-df-container\">\n",
       "    <div>\n",
       "<style scoped>\n",
       "    .dataframe tbody tr th:only-of-type {\n",
       "        vertical-align: middle;\n",
       "    }\n",
       "\n",
       "    .dataframe tbody tr th {\n",
       "        vertical-align: top;\n",
       "    }\n",
       "\n",
       "    .dataframe thead th {\n",
       "        text-align: right;\n",
       "    }\n",
       "</style>\n",
       "<table border=\"1\" class=\"dataframe\">\n",
       "  <thead>\n",
       "    <tr style=\"text-align: right;\">\n",
       "      <th></th>\n",
       "      <th>TV</th>\n",
       "      <th>Sales</th>\n",
       "    </tr>\n",
       "  </thead>\n",
       "  <tbody>\n",
       "    <tr>\n",
       "      <th>0</th>\n",
       "      <td>230.1</td>\n",
       "      <td>22.1</td>\n",
       "    </tr>\n",
       "    <tr>\n",
       "      <th>1</th>\n",
       "      <td>44.5</td>\n",
       "      <td>10.4</td>\n",
       "    </tr>\n",
       "    <tr>\n",
       "      <th>2</th>\n",
       "      <td>17.2</td>\n",
       "      <td>9.3</td>\n",
       "    </tr>\n",
       "    <tr>\n",
       "      <th>3</th>\n",
       "      <td>151.5</td>\n",
       "      <td>18.5</td>\n",
       "    </tr>\n",
       "    <tr>\n",
       "      <th>4</th>\n",
       "      <td>180.8</td>\n",
       "      <td>12.9</td>\n",
       "    </tr>\n",
       "  </tbody>\n",
       "</table>\n",
       "</div>\n",
       "    <div class=\"colab-df-buttons\">\n",
       "\n",
       "  <div class=\"colab-df-container\">\n",
       "    <button class=\"colab-df-convert\" onclick=\"convertToInteractive('df-d7ca759c-31c0-4f42-a1be-3ca785b1b15b')\"\n",
       "            title=\"Convert this dataframe to an interactive table.\"\n",
       "            style=\"display:none;\">\n",
       "\n",
       "  <svg xmlns=\"http://www.w3.org/2000/svg\" height=\"24px\" viewBox=\"0 -960 960 960\">\n",
       "    <path d=\"M120-120v-720h720v720H120Zm60-500h600v-160H180v160Zm220 220h160v-160H400v160Zm0 220h160v-160H400v160ZM180-400h160v-160H180v160Zm440 0h160v-160H620v160ZM180-180h160v-160H180v160Zm440 0h160v-160H620v160Z\"/>\n",
       "  </svg>\n",
       "    </button>\n",
       "\n",
       "  <style>\n",
       "    .colab-df-container {\n",
       "      display:flex;\n",
       "      gap: 12px;\n",
       "    }\n",
       "\n",
       "    .colab-df-convert {\n",
       "      background-color: #E8F0FE;\n",
       "      border: none;\n",
       "      border-radius: 50%;\n",
       "      cursor: pointer;\n",
       "      display: none;\n",
       "      fill: #1967D2;\n",
       "      height: 32px;\n",
       "      padding: 0 0 0 0;\n",
       "      width: 32px;\n",
       "    }\n",
       "\n",
       "    .colab-df-convert:hover {\n",
       "      background-color: #E2EBFA;\n",
       "      box-shadow: 0px 1px 2px rgba(60, 64, 67, 0.3), 0px 1px 3px 1px rgba(60, 64, 67, 0.15);\n",
       "      fill: #174EA6;\n",
       "    }\n",
       "\n",
       "    .colab-df-buttons div {\n",
       "      margin-bottom: 4px;\n",
       "    }\n",
       "\n",
       "    [theme=dark] .colab-df-convert {\n",
       "      background-color: #3B4455;\n",
       "      fill: #D2E3FC;\n",
       "    }\n",
       "\n",
       "    [theme=dark] .colab-df-convert:hover {\n",
       "      background-color: #434B5C;\n",
       "      box-shadow: 0px 1px 3px 1px rgba(0, 0, 0, 0.15);\n",
       "      filter: drop-shadow(0px 1px 2px rgba(0, 0, 0, 0.3));\n",
       "      fill: #FFFFFF;\n",
       "    }\n",
       "  </style>\n",
       "\n",
       "    <script>\n",
       "      const buttonEl =\n",
       "        document.querySelector('#df-d7ca759c-31c0-4f42-a1be-3ca785b1b15b button.colab-df-convert');\n",
       "      buttonEl.style.display =\n",
       "        google.colab.kernel.accessAllowed ? 'block' : 'none';\n",
       "\n",
       "      async function convertToInteractive(key) {\n",
       "        const element = document.querySelector('#df-d7ca759c-31c0-4f42-a1be-3ca785b1b15b');\n",
       "        const dataTable =\n",
       "          await google.colab.kernel.invokeFunction('convertToInteractive',\n",
       "                                                    [key], {});\n",
       "        if (!dataTable) return;\n",
       "\n",
       "        const docLinkHtml = 'Like what you see? Visit the ' +\n",
       "          '<a target=\"_blank\" href=https://colab.research.google.com/notebooks/data_table.ipynb>data table notebook</a>'\n",
       "          + ' to learn more about interactive tables.';\n",
       "        element.innerHTML = '';\n",
       "        dataTable['output_type'] = 'display_data';\n",
       "        await google.colab.output.renderOutput(dataTable, element);\n",
       "        const docLink = document.createElement('div');\n",
       "        docLink.innerHTML = docLinkHtml;\n",
       "        element.appendChild(docLink);\n",
       "      }\n",
       "    </script>\n",
       "  </div>\n",
       "\n",
       "\n",
       "<div id=\"df-99c4d033-83c5-45bc-a946-d8a4d7e6e61f\">\n",
       "  <button class=\"colab-df-quickchart\" onclick=\"quickchart('df-99c4d033-83c5-45bc-a946-d8a4d7e6e61f')\"\n",
       "            title=\"Suggest charts\"\n",
       "            style=\"display:none;\">\n",
       "\n",
       "<svg xmlns=\"http://www.w3.org/2000/svg\" height=\"24px\"viewBox=\"0 0 24 24\"\n",
       "     width=\"24px\">\n",
       "    <g>\n",
       "        <path d=\"M19 3H5c-1.1 0-2 .9-2 2v14c0 1.1.9 2 2 2h14c1.1 0 2-.9 2-2V5c0-1.1-.9-2-2-2zM9 17H7v-7h2v7zm4 0h-2V7h2v10zm4 0h-2v-4h2v4z\"/>\n",
       "    </g>\n",
       "</svg>\n",
       "  </button>\n",
       "\n",
       "<style>\n",
       "  .colab-df-quickchart {\n",
       "      --bg-color: #E8F0FE;\n",
       "      --fill-color: #1967D2;\n",
       "      --hover-bg-color: #E2EBFA;\n",
       "      --hover-fill-color: #174EA6;\n",
       "      --disabled-fill-color: #AAA;\n",
       "      --disabled-bg-color: #DDD;\n",
       "  }\n",
       "\n",
       "  [theme=dark] .colab-df-quickchart {\n",
       "      --bg-color: #3B4455;\n",
       "      --fill-color: #D2E3FC;\n",
       "      --hover-bg-color: #434B5C;\n",
       "      --hover-fill-color: #FFFFFF;\n",
       "      --disabled-bg-color: #3B4455;\n",
       "      --disabled-fill-color: #666;\n",
       "  }\n",
       "\n",
       "  .colab-df-quickchart {\n",
       "    background-color: var(--bg-color);\n",
       "    border: none;\n",
       "    border-radius: 50%;\n",
       "    cursor: pointer;\n",
       "    display: none;\n",
       "    fill: var(--fill-color);\n",
       "    height: 32px;\n",
       "    padding: 0;\n",
       "    width: 32px;\n",
       "  }\n",
       "\n",
       "  .colab-df-quickchart:hover {\n",
       "    background-color: var(--hover-bg-color);\n",
       "    box-shadow: 0 1px 2px rgba(60, 64, 67, 0.3), 0 1px 3px 1px rgba(60, 64, 67, 0.15);\n",
       "    fill: var(--button-hover-fill-color);\n",
       "  }\n",
       "\n",
       "  .colab-df-quickchart-complete:disabled,\n",
       "  .colab-df-quickchart-complete:disabled:hover {\n",
       "    background-color: var(--disabled-bg-color);\n",
       "    fill: var(--disabled-fill-color);\n",
       "    box-shadow: none;\n",
       "  }\n",
       "\n",
       "  .colab-df-spinner {\n",
       "    border: 2px solid var(--fill-color);\n",
       "    border-color: transparent;\n",
       "    border-bottom-color: var(--fill-color);\n",
       "    animation:\n",
       "      spin 1s steps(1) infinite;\n",
       "  }\n",
       "\n",
       "  @keyframes spin {\n",
       "    0% {\n",
       "      border-color: transparent;\n",
       "      border-bottom-color: var(--fill-color);\n",
       "      border-left-color: var(--fill-color);\n",
       "    }\n",
       "    20% {\n",
       "      border-color: transparent;\n",
       "      border-left-color: var(--fill-color);\n",
       "      border-top-color: var(--fill-color);\n",
       "    }\n",
       "    30% {\n",
       "      border-color: transparent;\n",
       "      border-left-color: var(--fill-color);\n",
       "      border-top-color: var(--fill-color);\n",
       "      border-right-color: var(--fill-color);\n",
       "    }\n",
       "    40% {\n",
       "      border-color: transparent;\n",
       "      border-right-color: var(--fill-color);\n",
       "      border-top-color: var(--fill-color);\n",
       "    }\n",
       "    60% {\n",
       "      border-color: transparent;\n",
       "      border-right-color: var(--fill-color);\n",
       "    }\n",
       "    80% {\n",
       "      border-color: transparent;\n",
       "      border-right-color: var(--fill-color);\n",
       "      border-bottom-color: var(--fill-color);\n",
       "    }\n",
       "    90% {\n",
       "      border-color: transparent;\n",
       "      border-bottom-color: var(--fill-color);\n",
       "    }\n",
       "  }\n",
       "</style>\n",
       "\n",
       "  <script>\n",
       "    async function quickchart(key) {\n",
       "      const quickchartButtonEl =\n",
       "        document.querySelector('#' + key + ' button');\n",
       "      quickchartButtonEl.disabled = true;  // To prevent multiple clicks.\n",
       "      quickchartButtonEl.classList.add('colab-df-spinner');\n",
       "      try {\n",
       "        const charts = await google.colab.kernel.invokeFunction(\n",
       "            'suggestCharts', [key], {});\n",
       "      } catch (error) {\n",
       "        console.error('Error during call to suggestCharts:', error);\n",
       "      }\n",
       "      quickchartButtonEl.classList.remove('colab-df-spinner');\n",
       "      quickchartButtonEl.classList.add('colab-df-quickchart-complete');\n",
       "    }\n",
       "    (() => {\n",
       "      let quickchartButtonEl =\n",
       "        document.querySelector('#df-99c4d033-83c5-45bc-a946-d8a4d7e6e61f button');\n",
       "      quickchartButtonEl.style.display =\n",
       "        google.colab.kernel.accessAllowed ? 'block' : 'none';\n",
       "    })();\n",
       "  </script>\n",
       "</div>\n",
       "\n",
       "    </div>\n",
       "  </div>\n"
      ],
      "text/plain": [
       "      TV  Sales\n",
       "0  230.1   22.1\n",
       "1   44.5   10.4\n",
       "2   17.2    9.3\n",
       "3  151.5   18.5\n",
       "4  180.8   12.9"
      ]
     },
     "execution_count": 56,
     "metadata": {},
     "output_type": "execute_result"
    }
   ],
   "source": [
    "# Print some part of the dataset.\n",
    "adv.head()"
   ]
  },
  {
   "cell_type": "markdown",
   "metadata": {
    "id": "fQk_r2cK6rPZ"
   },
   "source": [
    "##### __Expected Output__\n",
    "\n",
    "```Python\n",
    "\tTV\tSales\n",
    "0\t230.1\t22.1\n",
    "1\t44.5\t10.4\n",
    "2\t17.2\t9.3\n",
    "3\t151.5\t18.5\n",
    "4\t180.8\t12.9\n",
    "```"
   ]
  },
  {
   "cell_type": "code",
   "execution_count": null,
   "metadata": {
    "colab": {
     "base_uri": "https://localhost:8080/"
    },
    "id": "z09PR0n56rPa",
    "outputId": "b09a3966-af90-4f0f-9234-c0b775703878"
   },
   "outputs": [
    {
     "name": "stdout",
     "output_type": "stream",
     "text": [
      "\u001b[92m All tests passed\n"
     ]
    }
   ],
   "source": [
    "w2_unittest.test_load_data(adv)"
   ]
  },
  {
   "cell_type": "markdown",
   "metadata": {
    "id": "ih0JPZfU6rPa"
   },
   "source": [
    "`pandas` has a function to make plots from the DataFrame fields. By default, matplotlib is used at the backend. Let's use it here:"
   ]
  },
  {
   "cell_type": "code",
   "execution_count": null,
   "metadata": {
    "colab": {
     "base_uri": "https://localhost:8080/",
     "height": 466
    },
    "id": "bYemvzOF6rPa",
    "outputId": "2eba308a-e6e4-475f-99c7-b7cb759d6961"
   },
   "outputs": [
    {
     "data": {
      "text/plain": [
       "<Axes: xlabel='TV', ylabel='Sales'>"
      ]
     },
     "execution_count": 58,
     "metadata": {},
     "output_type": "execute_result"
    },
    {
     "data": {
      "image/png": "[encoded data removed]",
      "text/plain": [
       "<Figure size 640x480 with 1 Axes>"
      ]
     },
     "metadata": {},
     "output_type": "display_data"
    }
   ],
   "source": [
    "adv.plot(x='TV', y='Sales', kind='scatter', c='black')"
   ]
  },
  {
   "cell_type": "markdown",
   "metadata": {
    "id": "8v3CxHDw6rPa"
   },
   "source": [
    "You can use this dataset to solve a simple problem with linear regression: given a TV marketing budget, predict sales."
   ]
  },
  {
   "cell_type": "markdown",
   "metadata": {
    "id": "PAxfJx4K6rPa"
   },
   "source": [
    "<a name='2'></a>\n",
    "## 2 - Linear Regression in Python with `NumPy` and `Scikit-Learn`"
   ]
  },
  {
   "cell_type": "markdown",
   "metadata": {
    "id": "1iDBn7sN6rPa"
   },
   "source": [
    "Save the required field of the DataFrame into variables `X` and `Y`:"
   ]
  },
  {
   "cell_type": "code",
   "execution_count": null,
   "metadata": {
    "colab": {
     "base_uri": "https://localhost:8080/"
    },
    "id": "zlACC1Bs6rPb",
    "outputId": "15178804-3641-4f73-d0f7-9afcbdc48e45"
   },
   "outputs": [
    {
     "name": "stdout",
     "output_type": "stream",
     "text": [
      "X (TV marketing expenses):       TV\n",
      "0  230.1\n",
      "1   44.5\n",
      "2   17.2\n",
      "3  151.5\n",
      "4  180.8\n",
      "Y (Sales amount):    Sales\n",
      "0   22.1\n",
      "1   10.4\n",
      "2    9.3\n",
      "3   18.5\n",
      "4   12.9\n"
     ]
    }
   ],
   "source": [
    "X = adv[['TV']]\n",
    "Y = adv[['Sales']]\n",
    "\n",
    "print(\"X (TV marketing expenses):\", X.head())\n",
    "print(\"Y (Sales amount):\", Y.head())\n"
   ]
  },
  {
   "cell_type": "markdown",
   "metadata": {
    "id": "b_AYPl166rPb"
   },
   "source": [
    "You can use the function `np.polyfit(x, y, deg)` to fit a polynomial of degree `deg` to points $(x, y)$, minimising the sum of squared errors. You can read more in the [documentation](https://numpy.org/doc/stable/reference/generated/numpy.polyfit.html). Taking `deg = 1` you can obtain the slope `m` and the intercept `b` of the linear regression line:"
   ]
  },
  {
   "cell_type": "code",
   "execution_count": null,
   "metadata": {
    "colab": {
     "base_uri": "https://localhost:8080/"
    },
    "id": "Z9QzeLYQ6rPb",
    "outputId": "966f54dc-7187-4147-bc52-4b81202dfeb7"
   },
   "outputs": [
    {
     "name": "stdout",
     "output_type": "stream",
     "text": [
      "Linear regression with NumPy. Slope: [0.04753664]. Intercept: [7.03259355]\n"
     ]
    }
   ],
   "source": [
    "import numpy as np\n",
    "m_numpy, b_numpy = np.polyfit(X.values.flatten(), Y.values, deg=1)\n",
    "\n",
    "print(f\"Linear regression with NumPy. Slope: {m_numpy}. Intercept: {b_numpy}\")\n"
   ]
  },
  {
   "cell_type": "markdown",
   "metadata": {
    "id": "3IGX-Aco6rPb"
   },
   "source": [
    "*Note*: [`NumPy` documentation](https://numpy.org/doc/stable/reference/generated/numpy.polyfit.html) suggests the [`Polynomial.fit` class method](https://numpy.org/doc/stable/reference/generated/numpy.polynomial.polynomial.Polynomial.fit.html#numpy.polynomial.polynomial.Polynomial.fit) as recommended for new code as it is more stable numerically. But in this simple example, you can stick to the `np.polyfit` function for simplicity."
   ]
  },
  {
   "cell_type": "markdown",
   "metadata": {
    "id": "XQYzHp8-6rPb"
   },
   "source": [
    "<a name='ex02'></a>\n",
    "### Exercise 2\n",
    "\n",
    "Make predictions substituting the obtained slope and intercept coefficients into the equation $Y = mX + b$, given an array of $X$ values."
   ]
  },
  {
   "cell_type": "code",
   "execution_count": null,
   "metadata": {
    "id": "j-ffDoJG6rPb"
   },
   "outputs": [],
   "source": [
    "# This is organised as a function only for grading purposes.\n",
    "def pred_numpy(m, b, X):\n",
    "    \"\"\"\n",
    "    Using mx + b to make predictions with numpy.\n",
    "\n",
    "    Parameters:\n",
    "    m : Slope of the regression line.\n",
    "    b : Intercept of the regression line.\n",
    "    X : Input: marketing expenses.\n",
    "\n",
    "    Returns:\n",
    "    numpy.ndarray\n",
    "        Predicted values based on input X.\n",
    "    \"\"\"\n",
    "    # Compute predictions\n",
    "    y = m * X + b  # Calculating predicted Y values\n",
    "    return y\n"
   ]
  },
  {
   "cell_type": "code",
   "execution_count": null,
   "metadata": {
    "colab": {
     "base_uri": "https://localhost:8080/"
    },
    "id": "grGPkBDw6rPc",
    "outputId": "a0396e9a-91fb-4747-b9a7-bc01b86122dd"
   },
   "outputs": [
    {
     "name": "stdout",
     "output_type": "stream",
     "text": [
      "TV marketing expenses:\n",
      "[ 50 120 280]\n",
      "Predictions of sales using NumPy linear regression:\n",
      "[ 9.40942557 12.7369904  20.34285287]\n"
     ]
    }
   ],
   "source": [
    "X_pred = np.array([50, 120, 280])\n",
    "Y_pred_numpy = pred_numpy(m_numpy, b_numpy, X_pred)\n",
    "\n",
    "print(f\"TV marketing expenses:\\n{X_pred}\")\n",
    "print(f\"Predictions of sales using NumPy linear regression:\\n{Y_pred_numpy}\")"
   ]
  },
  {
   "cell_type": "markdown",
   "metadata": {
    "id": "Ei1HFkW16rPc"
   },
   "source": [
    "##### __Expected Output__\n",
    "\n",
    "```Python\n",
    "TV marketing expenses:\n",
    "[ 50 120 280]\n",
    "Predictions of sales using NumPy linear regression:\n",
    "[ 9.40942557 12.7369904  20.34285287]\n",
    "```"
   ]
  },
  {
   "cell_type": "code",
   "execution_count": null,
   "metadata": {
    "colab": {
     "base_uri": "https://localhost:8080/"
    },
    "id": "J6hP1sOh6rPc",
    "outputId": "5cb8a7c4-83b9-4764-e93f-72bd3c020c18"
   },
   "outputs": [
    {
     "name": "stdout",
     "output_type": "stream",
     "text": [
      "\u001b[92m All tests passed\n"
     ]
    }
   ],
   "source": [
    "w2_unittest.test_pred_numpy(pred_numpy)"
   ]
  },
  {
   "cell_type": "markdown",
   "metadata": {
    "id": "ZrHhLUxx6rPc"
   },
   "source": [
    "<a name='2.2'></a>\n",
    "### 2.2 - Linear Regression with `Scikit-Learn`"
   ]
  },
  {
   "cell_type": "markdown",
   "metadata": {
    "id": "x9fsySKj6rPc"
   },
   "source": [
    "`Scikit-Learn` is an open-source machine learning library that supports supervised and unsupervised learning. It also provides various tools for model fitting, data preprocessing, model selection, model evaluation, and many other utilities. `Scikit-learn` provides dozens of built-in machine learning algorithms and models, called **estimators**. Each estimator can be fitted to some data using its `fit` method. Full documentation can be found [here](https://scikit-learn.org/stable/)."
   ]
  },
  {
   "cell_type": "markdown",
   "metadata": {
    "id": "S4JiS30e6rPc"
   },
   "source": [
    "Create an estimator object for a linear regression model:"
   ]
  },
  {
   "cell_type": "code",
   "execution_count": null,
   "metadata": {
    "id": "8GFfrNtf6rPd"
   },
   "outputs": [],
   "source": [
    "lr_sklearn = LinearRegression()\n"
   ]
  },
  {
   "cell_type": "markdown",
   "metadata": {
    "id": "PZSY20Er6rPd"
   },
   "source": [
    "The estimator can learn from data calling the `fit` function. However, trying to run the following code you will get an error, as the data needs to be reshaped into 2D array:"
   ]
  },
  {
   "cell_type": "code",
   "execution_count": null,
   "metadata": {
    "colab": {
     "base_uri": "https://localhost:8080/"
    },
    "id": "c4sMLG0ahjmZ",
    "outputId": "acb410fe-2a1c-484d-e4e8-b898bdca760c"
   },
   "outputs": [
    {
     "name": "stdout",
     "output_type": "stream",
     "text": [
      "Shape of X array: (200, 1)\n",
      "Shape of Y array: (200, 1)\n"
     ]
    }
   ],
   "source": [
    "print(f\"Shape of X array: {X.shape}\")\n",
    "print(f\"Shape of Y array: {Y.shape}\")\n",
    "\n",
    "try:\n",
    "    lr_sklearn.fit(X, Y)\n",
    "except ValueError as err:\n",
    "    print(err)"
   ]
  },
  {
   "cell_type": "markdown",
   "metadata": {
    "id": "sFXmM3sD6rPd"
   },
   "source": [
    "You can increase the dimension of the array by one with `reshape` function, or there is another another way to do it:"
   ]
  },
  {
   "cell_type": "code",
   "execution_count": null,
   "metadata": {
    "colab": {
     "base_uri": "https://localhost:8080/"
    },
    "id": "HI9fOBYX6rPd",
    "outputId": "e9bb6e99-622c-4c05-f085-a0c389ebe7bc"
   },
   "outputs": [
    {
     "name": "stdout",
     "output_type": "stream",
     "text": [
      "Shape of new X array: (200, 1)\n",
      "Shape of new Y array: (200, 1)\n"
     ]
    }
   ],
   "source": [
    "import numpy as np\n",
    "X_sklearn = X.values.reshape(-1, 1)\n",
    "Y_sklearn = Y.values.reshape(-1, 1)\n",
    "\n",
    "print(f\"Shape of new X array: {X_sklearn.shape}\")\n",
    "print(f\"Shape of new Y array: {Y_sklearn.shape}\")"
   ]
  },
  {
   "cell_type": "markdown",
   "metadata": {
    "id": "NNM0wy686rPd"
   },
   "source": [
    "You have already loaded your dataset into X_sklearn and Y_sklearn\n",
    "Step 1: Split the data into training and testing sets use train_test_split from sklearn\n",
    "The test size shoukd be 20% of the data"
   ]
  },
  {
   "cell_type": "code",
   "execution_count": null,
   "metadata": {
    "colab": {
     "base_uri": "https://localhost:8080/"
    },
    "id": "Z1cxBgLO6rPd",
    "outputId": "4ab124e8-b5c9-475d-8762-91767c2de96e"
   },
   "outputs": [
    {
     "name": "stdout",
     "output_type": "stream",
     "text": [
      "Shape of training X: (160, 1)\n",
      "Shape of testing X: (40, 1)\n",
      "Shape of training Y: (160, 1)\n",
      "Shape of testing Y: (40, 1)\n"
     ]
    }
   ],
   "source": [
    "from sklearn.model_selection import train_test_split\n",
    "\n",
    "# Split the data into training and testing sets with 20% of the data for testing\n",
    "X_train, X_test, Y_train, Y_test = train_test_split(X_sklearn, Y_sklearn, test_size=0.2, random_state=42)\n",
    "\n",
    "# Printing  the shapes of the resulting datasets\n",
    "print(f\"Shape of training X: {X_train.shape}\")\n",
    "print(f\"Shape of testing X: {X_test.shape}\")\n",
    "print(f\"Shape of training Y: {Y_train.shape}\")\n",
    "print(f\"Shape of testing Y: {Y_test.shape}\")\n"
   ]
  },
  {
   "cell_type": "markdown",
   "metadata": {
    "id": "OVdNEptq6rPn"
   },
   "source": [
    "Step 2: Fit the linear regression model to the training data\n"
   ]
  },
  {
   "cell_type": "code",
   "execution_count": null,
   "metadata": {
    "colab": {
     "base_uri": "https://localhost:8080/",
     "height": 80
    },
    "id": "JCOjcOA06rPn",
    "outputId": "000147d9-a8ed-4656-df52-0954afebf0e6"
   },
   "outputs": [
    {
     "data": {
      "text/html": [
       "<style>#sk-container-id-3 {\n",
       "  /* Definition of color scheme common for light and dark mode */\n",
       "  --sklearn-color-text: black;\n",
       "  --sklearn-color-line: gray;\n",
       "  /* Definition of color scheme for unfitted estimators */\n",
       "  --sklearn-color-unfitted-level-0: #fff5e6;\n",
       "  --sklearn-color-unfitted-level-1: #f6e4d2;\n",
       "  --sklearn-color-unfitted-level-2: #ffe0b3;\n",
       "  --sklearn-color-unfitted-level-3: chocolate;\n",
       "  /* Definition of color scheme for fitted estimators */\n",
       "  --sklearn-color-fitted-level-0: #f0f8ff;\n",
       "  --sklearn-color-fitted-level-1: #d4ebff;\n",
       "  --sklearn-color-fitted-level-2: #b3dbfd;\n",
       "  --sklearn-color-fitted-level-3: cornflowerblue;\n",
       "\n",
       "  /* Specific color for light theme */\n",
       "  --sklearn-color-text-on-default-background: var(--sg-text-color, var(--theme-code-foreground, var(--jp-content-font-color1, black)));\n",
       "  --sklearn-color-background: var(--sg-background-color, var(--theme-background, var(--jp-layout-color0, white)));\n",
       "  --sklearn-color-border-box: var(--sg-text-color, var(--theme-code-foreground, var(--jp-content-font-color1, black)));\n",
       "  --sklearn-color-icon: #696969;\n",
       "\n",
       "  @media (prefers-color-scheme: dark) {\n",
       "    /* Redefinition of color scheme for dark theme */\n",
       "    --sklearn-color-text-on-default-background: var(--sg-text-color, var(--theme-code-foreground, var(--jp-content-font-color1, white)));\n",
       "    --sklearn-color-background: var(--sg-background-color, var(--theme-background, var(--jp-layout-color0, #111)));\n",
       "    --sklearn-color-border-box: var(--sg-text-color, var(--theme-code-foreground, var(--jp-content-font-color1, white)));\n",
       "    --sklearn-color-icon: #878787;\n",
       "  }\n",
       "}\n",
       "\n",
       "#sk-container-id-3 {\n",
       "  color: var(--sklearn-color-text);\n",
       "}\n",
       "\n",
       "#sk-container-id-3 pre {\n",
       "  padding: 0;\n",
       "}\n",
       "\n",
       "#sk-container-id-3 input.sk-hidden--visually {\n",
       "  border: 0;\n",
       "  clip: rect(1px 1px 1px 1px);\n",
       "  clip: rect(1px, 1px, 1px, 1px);\n",
       "  height: 1px;\n",
       "  margin: -1px;\n",
       "  overflow: hidden;\n",
       "  padding: 0;\n",
       "  position: absolute;\n",
       "  width: 1px;\n",
       "}\n",
       "\n",
       "#sk-container-id-3 div.sk-dashed-wrapped {\n",
       "  border: 1px dashed var(--sklearn-color-line);\n",
       "  margin: 0 0.4em 0.5em 0.4em;\n",
       "  box-sizing: border-box;\n",
       "  padding-bottom: 0.4em;\n",
       "  background-color: var(--sklearn-color-background);\n",
       "}\n",
       "\n",
       "#sk-container-id-3 div.sk-container {\n",
       "  /* jupyter's `normalize.less` sets `[hidden] { display: none; }`\n",
       "     but bootstrap.min.css set `[hidden] { display: none !important; }`\n",
       "     so we also need the `!important` here to be able to override the\n",
       "     default hidden behavior on the sphinx rendered scikit-learn.org.\n",
       "     See: https://github.com/scikit-learn/scikit-learn/issues/21755 */\n",
       "  display: inline-block !important;\n",
       "  position: relative;\n",
       "}\n",
       "\n",
       "#sk-container-id-3 div.sk-text-repr-fallback {\n",
       "  display: none;\n",
       "}\n",
       "\n",
       "div.sk-parallel-item,\n",
       "div.sk-serial,\n",
       "div.sk-item {\n",
       "  /* draw centered vertical line to link estimators */\n",
       "  background-image: linear-gradient(var(--sklearn-color-text-on-default-background), var(--sklearn-color-text-on-default-background));\n",
       "  background-size: 2px 100%;\n",
       "  background-repeat: no-repeat;\n",
       "  background-position: center center;\n",
       "}\n",
       "\n",
       "/* Parallel-specific style estimator block */\n",
       "\n",
       "#sk-container-id-3 div.sk-parallel-item::after {\n",
       "  content: \"\";\n",
       "  width: 100%;\n",
       "  border-bottom: 2px solid var(--sklearn-color-text-on-default-background);\n",
       "  flex-grow: 1;\n",
       "}\n",
       "\n",
       "#sk-container-id-3 div.sk-parallel {\n",
       "  display: flex;\n",
       "  align-items: stretch;\n",
       "  justify-content: center;\n",
       "  background-color: var(--sklearn-color-background);\n",
       "  position: relative;\n",
       "}\n",
       "\n",
       "#sk-container-id-3 div.sk-parallel-item {\n",
       "  display: flex;\n",
       "  flex-direction: column;\n",
       "}\n",
       "\n",
       "#sk-container-id-3 div.sk-parallel-item:first-child::after {\n",
       "  align-self: flex-end;\n",
       "  width: 50%;\n",
       "}\n",
       "\n",
       "#sk-container-id-3 div.sk-parallel-item:last-child::after {\n",
       "  align-self: flex-start;\n",
       "  width: 50%;\n",
       "}\n",
       "\n",
       "#sk-container-id-3 div.sk-parallel-item:only-child::after {\n",
       "  width: 0;\n",
       "}\n",
       "\n",
       "/* Serial-specific style estimator block */\n",
       "\n",
       "#sk-container-id-3 div.sk-serial {\n",
       "  display: flex;\n",
       "  flex-direction: column;\n",
       "  align-items: center;\n",
       "  background-color: var(--sklearn-color-background);\n",
       "  padding-right: 1em;\n",
       "  padding-left: 1em;\n",
       "}\n",
       "\n",
       "\n",
       "/* Toggleable style: style used for estimator/Pipeline/ColumnTransformer box that is\n",
       "clickable and can be expanded/collapsed.\n",
       "- Pipeline and ColumnTransformer use this feature and define the default style\n",
       "- Estimators will overwrite some part of the style using the `sk-estimator` class\n",
       "*/\n",
       "\n",
       "/* Pipeline and ColumnTransformer style (default) */\n",
       "\n",
       "#sk-container-id-3 div.sk-toggleable {\n",
       "  /* Default theme specific background. It is overwritten whether we have a\n",
       "  specific estimator or a Pipeline/ColumnTransformer */\n",
       "  background-color: var(--sklearn-color-background);\n",
       "}\n",
       "\n",
       "/* Toggleable label */\n",
       "#sk-container-id-3 label.sk-toggleable__label {\n",
       "  cursor: pointer;\n",
       "  display: block;\n",
       "  width: 100%;\n",
       "  margin-bottom: 0;\n",
       "  padding: 0.5em;\n",
       "  box-sizing: border-box;\n",
       "  text-align: center;\n",
       "}\n",
       "\n",
       "#sk-container-id-3 label.sk-toggleable__label-arrow:before {\n",
       "  /* Arrow on the left of the label */\n",
       "  content: \"▸\";\n",
       "  float: left;\n",
       "  margin-right: 0.25em;\n",
       "  color: var(--sklearn-color-icon);\n",
       "}\n",
       "\n",
       "#sk-container-id-3 label.sk-toggleable__label-arrow:hover:before {\n",
       "  color: var(--sklearn-color-text);\n",
       "}\n",
       "\n",
       "/* Toggleable content - dropdown */\n",
       "\n",
       "#sk-container-id-3 div.sk-toggleable__content {\n",
       "  max-height: 0;\n",
       "  max-width: 0;\n",
       "  overflow: hidden;\n",
       "  text-align: left;\n",
       "  /* unfitted */\n",
       "  background-color: var(--sklearn-color-unfitted-level-0);\n",
       "}\n",
       "\n",
       "#sk-container-id-3 div.sk-toggleable__content.fitted {\n",
       "  /* fitted */\n",
       "  background-color: var(--sklearn-color-fitted-level-0);\n",
       "}\n",
       "\n",
       "#sk-container-id-3 div.sk-toggleable__content pre {\n",
       "  margin: 0.2em;\n",
       "  border-radius: 0.25em;\n",
       "  color: var(--sklearn-color-text);\n",
       "  /* unfitted */\n",
       "  background-color: var(--sklearn-color-unfitted-level-0);\n",
       "}\n",
       "\n",
       "#sk-container-id-3 div.sk-toggleable__content.fitted pre {\n",
       "  /* unfitted */\n",
       "  background-color: var(--sklearn-color-fitted-level-0);\n",
       "}\n",
       "\n",
       "#sk-container-id-3 input.sk-toggleable__control:checked~div.sk-toggleable__content {\n",
       "  /* Expand drop-down */\n",
       "  max-height: 200px;\n",
       "  max-width: 100%;\n",
       "  overflow: auto;\n",
       "}\n",
       "\n",
       "#sk-container-id-3 input.sk-toggleable__control:checked~label.sk-toggleable__label-arrow:before {\n",
       "  content: \"▾\";\n",
       "}\n",
       "\n",
       "/* Pipeline/ColumnTransformer-specific style */\n",
       "\n",
       "#sk-container-id-3 div.sk-label input.sk-toggleable__control:checked~label.sk-toggleable__label {\n",
       "  color: var(--sklearn-color-text);\n",
       "  background-color: var(--sklearn-color-unfitted-level-2);\n",
       "}\n",
       "\n",
       "#sk-container-id-3 div.sk-label.fitted input.sk-toggleable__control:checked~label.sk-toggleable__label {\n",
       "  background-color: var(--sklearn-color-fitted-level-2);\n",
       "}\n",
       "\n",
       "/* Estimator-specific style */\n",
       "\n",
       "/* Colorize estimator box */\n",
       "#sk-container-id-3 div.sk-estimator input.sk-toggleable__control:checked~label.sk-toggleable__label {\n",
       "  /* unfitted */\n",
       "  background-color: var(--sklearn-color-unfitted-level-2);\n",
       "}\n",
       "\n",
       "#sk-container-id-3 div.sk-estimator.fitted input.sk-toggleable__control:checked~label.sk-toggleable__label {\n",
       "  /* fitted */\n",
       "  background-color: var(--sklearn-color-fitted-level-2);\n",
       "}\n",
       "\n",
       "#sk-container-id-3 div.sk-label label.sk-toggleable__label,\n",
       "#sk-container-id-3 div.sk-label label {\n",
       "  /* The background is the default theme color */\n",
       "  color: var(--sklearn-color-text-on-default-background);\n",
       "}\n",
       "\n",
       "/* On hover, darken the color of the background */\n",
       "#sk-container-id-3 div.sk-label:hover label.sk-toggleable__label {\n",
       "  color: var(--sklearn-color-text);\n",
       "  background-color: var(--sklearn-color-unfitted-level-2);\n",
       "}\n",
       "\n",
       "/* Label box, darken color on hover, fitted */\n",
       "#sk-container-id-3 div.sk-label.fitted:hover label.sk-toggleable__label.fitted {\n",
       "  color: var(--sklearn-color-text);\n",
       "  background-color: var(--sklearn-color-fitted-level-2);\n",
       "}\n",
       "\n",
       "/* Estimator label */\n",
       "\n",
       "#sk-container-id-3 div.sk-label label {\n",
       "  font-family: monospace;\n",
       "  font-weight: bold;\n",
       "  display: inline-block;\n",
       "  line-height: 1.2em;\n",
       "}\n",
       "\n",
       "#sk-container-id-3 div.sk-label-container {\n",
       "  text-align: center;\n",
       "}\n",
       "\n",
       "/* Estimator-specific */\n",
       "#sk-container-id-3 div.sk-estimator {\n",
       "  font-family: monospace;\n",
       "  border: 1px dotted var(--sklearn-color-border-box);\n",
       "  border-radius: 0.25em;\n",
       "  box-sizing: border-box;\n",
       "  margin-bottom: 0.5em;\n",
       "  /* unfitted */\n",
       "  background-color: var(--sklearn-color-unfitted-level-0);\n",
       "}\n",
       "\n",
       "#sk-container-id-3 div.sk-estimator.fitted {\n",
       "  /* fitted */\n",
       "  background-color: var(--sklearn-color-fitted-level-0);\n",
       "}\n",
       "\n",
       "/* on hover */\n",
       "#sk-container-id-3 div.sk-estimator:hover {\n",
       "  /* unfitted */\n",
       "  background-color: var(--sklearn-color-unfitted-level-2);\n",
       "}\n",
       "\n",
       "#sk-container-id-3 div.sk-estimator.fitted:hover {\n",
       "  /* fitted */\n",
       "  background-color: var(--sklearn-color-fitted-level-2);\n",
       "}\n",
       "\n",
       "/* Specification for estimator info (e.g. \"i\" and \"?\") */\n",
       "\n",
       "/* Common style for \"i\" and \"?\" */\n",
       "\n",
       ".sk-estimator-doc-link,\n",
       "a:link.sk-estimator-doc-link,\n",
       "a:visited.sk-estimator-doc-link {\n",
       "  float: right;\n",
       "  font-size: smaller;\n",
       "  line-height: 1em;\n",
       "  font-family: monospace;\n",
       "  background-color: var(--sklearn-color-background);\n",
       "  border-radius: 1em;\n",
       "  height: 1em;\n",
       "  width: 1em;\n",
       "  text-decoration: none !important;\n",
       "  margin-left: 1ex;\n",
       "  /* unfitted */\n",
       "  border: var(--sklearn-color-unfitted-level-1) 1pt solid;\n",
       "  color: var(--sklearn-color-unfitted-level-1);\n",
       "}\n",
       "\n",
       ".sk-estimator-doc-link.fitted,\n",
       "a:link.sk-estimator-doc-link.fitted,\n",
       "a:visited.sk-estimator-doc-link.fitted {\n",
       "  /* fitted */\n",
       "  border: var(--sklearn-color-fitted-level-1) 1pt solid;\n",
       "  color: var(--sklearn-color-fitted-level-1);\n",
       "}\n",
       "\n",
       "/* On hover */\n",
       "div.sk-estimator:hover .sk-estimator-doc-link:hover,\n",
       ".sk-estimator-doc-link:hover,\n",
       "div.sk-label-container:hover .sk-estimator-doc-link:hover,\n",
       ".sk-estimator-doc-link:hover {\n",
       "  /* unfitted */\n",
       "  background-color: var(--sklearn-color-unfitted-level-3);\n",
       "  color: var(--sklearn-color-background);\n",
       "  text-decoration: none;\n",
       "}\n",
       "\n",
       "div.sk-estimator.fitted:hover .sk-estimator-doc-link.fitted:hover,\n",
       ".sk-estimator-doc-link.fitted:hover,\n",
       "div.sk-label-container:hover .sk-estimator-doc-link.fitted:hover,\n",
       ".sk-estimator-doc-link.fitted:hover {\n",
       "  /* fitted */\n",
       "  background-color: var(--sklearn-color-fitted-level-3);\n",
       "  color: var(--sklearn-color-background);\n",
       "  text-decoration: none;\n",
       "}\n",
       "\n",
       "/* Span, style for the box shown on hovering the info icon */\n",
       ".sk-estimator-doc-link span {\n",
       "  display: none;\n",
       "  z-index: 9999;\n",
       "  position: relative;\n",
       "  font-weight: normal;\n",
       "  right: .2ex;\n",
       "  padding: .5ex;\n",
       "  margin: .5ex;\n",
       "  width: min-content;\n",
       "  min-width: 20ex;\n",
       "  max-width: 50ex;\n",
       "  color: var(--sklearn-color-text);\n",
       "  box-shadow: 2pt 2pt 4pt #999;\n",
       "  /* unfitted */\n",
       "  background: var(--sklearn-color-unfitted-level-0);\n",
       "  border: .5pt solid var(--sklearn-color-unfitted-level-3);\n",
       "}\n",
       "\n",
       ".sk-estimator-doc-link.fitted span {\n",
       "  /* fitted */\n",
       "  background: var(--sklearn-color-fitted-level-0);\n",
       "  border: var(--sklearn-color-fitted-level-3);\n",
       "}\n",
       "\n",
       ".sk-estimator-doc-link:hover span {\n",
       "  display: block;\n",
       "}\n",
       "\n",
       "/* \"?\"-specific style due to the `<a>` HTML tag */\n",
       "\n",
       "#sk-container-id-3 a.estimator_doc_link {\n",
       "  float: right;\n",
       "  font-size: 1rem;\n",
       "  line-height: 1em;\n",
       "  font-family: monospace;\n",
       "  background-color: var(--sklearn-color-background);\n",
       "  border-radius: 1rem;\n",
       "  height: 1rem;\n",
       "  width: 1rem;\n",
       "  text-decoration: none;\n",
       "  /* unfitted */\n",
       "  color: var(--sklearn-color-unfitted-level-1);\n",
       "  border: var(--sklearn-color-unfitted-level-1) 1pt solid;\n",
       "}\n",
       "\n",
       "#sk-container-id-3 a.estimator_doc_link.fitted {\n",
       "  /* fitted */\n",
       "  border: var(--sklearn-color-fitted-level-1) 1pt solid;\n",
       "  color: var(--sklearn-color-fitted-level-1);\n",
       "}\n",
       "\n",
       "/* On hover */\n",
       "#sk-container-id-3 a.estimator_doc_link:hover {\n",
       "  /* unfitted */\n",
       "  background-color: var(--sklearn-color-unfitted-level-3);\n",
       "  color: var(--sklearn-color-background);\n",
       "  text-decoration: none;\n",
       "}\n",
       "\n",
       "#sk-container-id-3 a.estimator_doc_link.fitted:hover {\n",
       "  /* fitted */\n",
       "  background-color: var(--sklearn-color-fitted-level-3);\n",
       "}\n",
       "</style><div id=\"sk-container-id-3\" class=\"sk-top-container\"><div class=\"sk-text-repr-fallback\"><pre>LinearRegression()</pre><b>In a Jupyter environment, please rerun this cell to show the HTML representation or trust the notebook. <br />On GitHub, the HTML representation is unable to render, please try loading this page with nbviewer.org.</b></div><div class=\"sk-container\" hidden><div class=\"sk-item\"><div class=\"sk-estimator fitted sk-toggleable\"><input class=\"sk-toggleable__control sk-hidden--visually\" id=\"sk-estimator-id-3\" type=\"checkbox\" checked><label for=\"sk-estimator-id-3\" class=\"sk-toggleable__label fitted sk-toggleable__label-arrow fitted\">&nbsp;&nbsp;LinearRegression<a class=\"sk-estimator-doc-link fitted\" rel=\"noreferrer\" target=\"_blank\" href=\"https://scikit-learn.org/1.5/modules/generated/sklearn.linear_model.LinearRegression.html\">?<span>Documentation for LinearRegression</span></a><span class=\"sk-estimator-doc-link fitted\">i<span>Fitted</span></span></label><div class=\"sk-toggleable__content fitted\"><pre>LinearRegression()</pre></div> </div></div></div></div>"
      ],
      "text/plain": [
       "LinearRegression()"
      ]
     },
     "execution_count": 68,
     "metadata": {},
     "output_type": "execute_result"
    }
   ],
   "source": [
    "lr_sklearn.fit(X_train, Y_train) #Insert proper arguments fro training asper step 1"
   ]
  },
  {
   "cell_type": "markdown",
   "metadata": {
    "id": "peVnPMvN6rPo"
   },
   "source": [
    "\n",
    " Step 3: Make predictions using the fitted model on the testing data\n"
   ]
  },
  {
   "cell_type": "code",
   "execution_count": null,
   "metadata": {
    "colab": {
     "base_uri": "https://localhost:8080/"
    },
    "id": "iVNo1HMJ6rPo",
    "outputId": "123e9b69-22bf-4dc0-af88-8935ee6b1208"
   },
   "outputs": [
    {
     "name": "stdout",
     "output_type": "stream",
     "text": [
      "Predictions: [[14.71794394]\n",
      " [16.2115484 ]\n",
      " [20.74819743]\n",
      " [ 7.66403631]\n",
      " [17.37013877]\n",
      " [10.61402143]\n",
      " [17.2072847 ]\n",
      " [ 9.44612512]\n",
      " [17.46785121]\n",
      " [15.2669948 ]\n",
      " [ 8.58532504]\n",
      " [ 9.73460946]\n",
      " [18.03086098]\n",
      " [ 7.37089899]\n",
      " [13.61053628]\n",
      " [15.03899911]\n",
      " [ 7.45930549]\n",
      " [16.31391381]\n",
      " [10.62332738]\n",
      " [18.16579721]\n",
      " [17.79821232]\n",
      " [10.27435438]\n",
      " [ 8.88776831]\n",
      " [18.79394862]\n",
      " [10.33019006]\n",
      " [ 9.60897918]\n",
      " [17.05373658]\n",
      " [13.60123034]\n",
      " [11.17703121]\n",
      " [ 7.51048819]\n",
      " [16.41627922]\n",
      " [10.339496  ]\n",
      " [16.37440246]\n",
      " [ 7.90599093]\n",
      " [20.18053468]\n",
      " [18.203021  ]\n",
      " [ 9.36702457]\n",
      " [19.85482655]\n",
      " [12.57292322]\n",
      " [ 8.39920611]]\n"
     ]
    }
   ],
   "source": [
    "Y_pred = lr_sklearn.predict(X_test)#use test data from X from step 1 above)\n",
    "print(f\"Predictions: {Y_pred}\")"
   ]
  },
  {
   "cell_type": "markdown",
   "metadata": {
    "id": "hudBcMsU6rPo"
   },
   "source": [
    " Step 4: Calculate the RMSE\n",
    "Using sklearn.metrics - mean_squared_error"
   ]
  },
  {
   "cell_type": "code",
   "execution_count": null,
   "metadata": {
    "colab": {
     "base_uri": "https://localhost:8080/"
    },
    "id": "i1UQkkC16rPo",
    "outputId": "cf20875b-784c-44c7-8e42-055b29c868d9"
   },
   "outputs": [
    {
     "name": "stdout",
     "output_type": "stream",
     "text": [
      "Root Mean Square Error: 3.194472431998898\n"
     ]
    },
    {
     "name": "stderr",
     "output_type": "stream",
     "text": [
      "/usr/local/lib/python3.10/dist-packages/sklearn/metrics/_regression.py:492: FutureWarning: 'squared' is deprecated in version 1.4 and will be removed in 1.6. To calculate the root mean squared error, use the function'root_mean_squared_error'.\n",
      "  warnings.warn(\n"
     ]
    }
   ],
   "source": [
    "#Insert your code here\n",
    "from sklearn.metrics import mean_squared_error\n",
    "rmse =  mean_squared_error(Y_test, Y_pred, squared=False)\n",
    "print(\"Root Mean Square Error:\", rmse)"
   ]
  },
  {
   "cell_type": "markdown",
   "metadata": {
    "id": "e0ohtuuC6rPo"
   },
   "source": [
    "TO DO Create an estimator object for Random Forest and Desision Trees and compare RSMES:"
   ]
  },
  {
   "cell_type": "code",
   "execution_count": null,
   "metadata": {
    "colab": {
     "base_uri": "https://localhost:8080/"
    },
    "id": "I9M9IOlO6rPo",
    "outputId": "6cccdf1a-23e2-4cda-ebc0-7a6b8fe8ab25"
   },
   "outputs": [
    {
     "name": "stderr",
     "output_type": "stream",
     "text": [
      "/usr/local/lib/python3.10/dist-packages/sklearn/metrics/_regression.py:492: FutureWarning: 'squared' is deprecated in version 1.4 and will be removed in 1.6. To calculate the root mean squared error, use the function'root_mean_squared_error'.\n",
      "  warnings.warn(\n",
      "/usr/local/lib/python3.10/dist-packages/sklearn/metrics/_regression.py:492: FutureWarning: 'squared' is deprecated in version 1.4 and will be removed in 1.6. To calculate the root mean squared error, use the function'root_mean_squared_error'.\n",
      "  warnings.warn(\n",
      "/usr/local/lib/python3.10/dist-packages/sklearn/metrics/_regression.py:492: FutureWarning: 'squared' is deprecated in version 1.4 and will be removed in 1.6. To calculate the root mean squared error, use the function'root_mean_squared_error'.\n",
      "  warnings.warn(\n"
     ]
    }
   ],
   "source": [
    "import numpy as np\n",
    "from sklearn.ensemble import RandomForestRegressor\n",
    "from sklearn.tree import DecisionTreeRegressor\n",
    "from sklearn.metrics import mean_squared_error\n",
    "\n",
    "Y_train = np.ravel(Y_train)\n",
    "Y_test = np.ravel(Y_test)\n",
    "\n",
    "rf_model = RandomForestRegressor()\n",
    "dt_model = DecisionTreeRegressor()\n",
    "\n",
    "rf_model.fit(X_train, Y_train)\n",
    "dt_model.fit(X_train, Y_train)\n",
    "\n",
    "Y_pred_rf = rf_model.predict(X_test)\n",
    "Y_pred_dt = dt_model.predict(X_test)\n",
    "\n",
    "rmse_rf = mean_squared_error(Y_test, Y_pred_rf, squared=False)\n",
    "rmse_dt = mean_squared_error(Y_test, Y_pred_dt, squared=False)\n",
    "\n",
    "# The issue was here: you were assigning the function itself, not the result of calling it\n",
    "# model_rank = {\n",
    "#    'Linear Regression': rmse, # rmse was probably not defined or was the function mean_squared_error itself\n",
    "#    'Random Forest': rmse_rf,\n",
    "#    'Decision Trees': rmse_dt\n",
    "#}\n",
    "\n",
    "# Fix: Assuming 'rmse' is meant to hold the RMSE for Linear Regression, ensure it's calculated correctly\n",
    "# If 'rmse' is already calculated in a previous cell, you can directly use it here.\n",
    "# If not, you might need to calculate it like this (replace with your actual prediction for Linear Regression):\n",
    "\n",
    "# Assuming Y_pred contains the predictions from your Linear Regression model\n",
    "rmse = mean_squared_error(Y_test, Y_pred, squared=False)\n",
    "\n",
    "# Now, create the model_rank dictionary with the calculated RMSE values\n",
    "model_rank = {\n",
    "    'Linear Regression': rmse, # Now using the calculated rmse value\n",
    "    'Random Forest': rmse_rf,\n",
    "    'Decision Trees': rmse_dt\n",
    "}"
   ]
  },
  {
   "cell_type": "markdown",
   "metadata": {
    "id": "A7IJ43mE6rPp"
   },
   "source": [
    "The estimator can learn from data calling the `fit` function for RandomForest and Decision Trees"
   ]
  },
  {
   "cell_type": "markdown",
   "metadata": {
    "id": "lk5GFVpP6rPp"
   },
   "source": [
    "Compare the RSME for the three different models and rank them according to performance i.e Print out Model Rank and Associated RSME"
   ]
  },
  {
   "cell_type": "code",
   "execution_count": null,
   "metadata": {
    "colab": {
     "base_uri": "https://localhost:8080/"
    },
    "id": "oezuiUKg6rPp",
    "outputId": "a90167d8-07b6-4de8-d343-452264f98781"
   },
   "outputs": [
    {
     "name": "stdout",
     "output_type": "stream",
     "text": [
      "Linear Regression: 3.194472431998898\n",
      "Random Forest: 2.970724433746245\n",
      "Decision Trees: 3.445214071723265\n"
     ]
    }
   ],
   "source": [
    "for model, metric in model_rank.items():\n",
    "    print(f\"{model}: {metric}\")"
   ]
  },
  {
   "cell_type": "markdown",
   "metadata": {
    "id": "3Dx_XduU6rPq"
   },
   "source": [
    "<a name='ex03'></a>\n",
    "### Exercise 3\n",
    "\n",
    "Fit the linear regression model passing `X_sklearn` and `Y_sklearn` arrays into the function `lr_sklearn.fit`."
   ]
  },
  {
   "cell_type": "code",
   "execution_count": null,
   "metadata": {
    "colab": {
     "base_uri": "https://localhost:8080/",
     "height": 80
    },
    "id": "obCu3yOZ6rPq",
    "outputId": "219cc49c-766d-4077-dcb2-b0eb28e4df64"
   },
   "outputs": [
    {
     "data": {
      "text/html": [
       "<style>#sk-container-id-4 {\n",
       "  /* Definition of color scheme common for light and dark mode */\n",
       "  --sklearn-color-text: black;\n",
       "  --sklearn-color-line: gray;\n",
       "  /* Definition of color scheme for unfitted estimators */\n",
       "  --sklearn-color-unfitted-level-0: #fff5e6;\n",
       "  --sklearn-color-unfitted-level-1: #f6e4d2;\n",
       "  --sklearn-color-unfitted-level-2: #ffe0b3;\n",
       "  --sklearn-color-unfitted-level-3: chocolate;\n",
       "  /* Definition of color scheme for fitted estimators */\n",
       "  --sklearn-color-fitted-level-0: #f0f8ff;\n",
       "  --sklearn-color-fitted-level-1: #d4ebff;\n",
       "  --sklearn-color-fitted-level-2: #b3dbfd;\n",
       "  --sklearn-color-fitted-level-3: cornflowerblue;\n",
       "\n",
       "  /* Specific color for light theme */\n",
       "  --sklearn-color-text-on-default-background: var(--sg-text-color, var(--theme-code-foreground, var(--jp-content-font-color1, black)));\n",
       "  --sklearn-color-background: var(--sg-background-color, var(--theme-background, var(--jp-layout-color0, white)));\n",
       "  --sklearn-color-border-box: var(--sg-text-color, var(--theme-code-foreground, var(--jp-content-font-color1, black)));\n",
       "  --sklearn-color-icon: #696969;\n",
       "\n",
       "  @media (prefers-color-scheme: dark) {\n",
       "    /* Redefinition of color scheme for dark theme */\n",
       "    --sklearn-color-text-on-default-background: var(--sg-text-color, var(--theme-code-foreground, var(--jp-content-font-color1, white)));\n",
       "    --sklearn-color-background: var(--sg-background-color, var(--theme-background, var(--jp-layout-color0, #111)));\n",
       "    --sklearn-color-border-box: var(--sg-text-color, var(--theme-code-foreground, var(--jp-content-font-color1, white)));\n",
       "    --sklearn-color-icon: #878787;\n",
       "  }\n",
       "}\n",
       "\n",
       "#sk-container-id-4 {\n",
       "  color: var(--sklearn-color-text);\n",
       "}\n",
       "\n",
       "#sk-container-id-4 pre {\n",
       "  padding: 0;\n",
       "}\n",
       "\n",
       "#sk-container-id-4 input.sk-hidden--visually {\n",
       "  border: 0;\n",
       "  clip: rect(1px 1px 1px 1px);\n",
       "  clip: rect(1px, 1px, 1px, 1px);\n",
       "  height: 1px;\n",
       "  margin: -1px;\n",
       "  overflow: hidden;\n",
       "  padding: 0;\n",
       "  position: absolute;\n",
       "  width: 1px;\n",
       "}\n",
       "\n",
       "#sk-container-id-4 div.sk-dashed-wrapped {\n",
       "  border: 1px dashed var(--sklearn-color-line);\n",
       "  margin: 0 0.4em 0.5em 0.4em;\n",
       "  box-sizing: border-box;\n",
       "  padding-bottom: 0.4em;\n",
       "  background-color: var(--sklearn-color-background);\n",
       "}\n",
       "\n",
       "#sk-container-id-4 div.sk-container {\n",
       "  /* jupyter's `normalize.less` sets `[hidden] { display: none; }`\n",
       "     but bootstrap.min.css set `[hidden] { display: none !important; }`\n",
       "     so we also need the `!important` here to be able to override the\n",
       "     default hidden behavior on the sphinx rendered scikit-learn.org.\n",
       "     See: https://github.com/scikit-learn/scikit-learn/issues/21755 */\n",
       "  display: inline-block !important;\n",
       "  position: relative;\n",
       "}\n",
       "\n",
       "#sk-container-id-4 div.sk-text-repr-fallback {\n",
       "  display: none;\n",
       "}\n",
       "\n",
       "div.sk-parallel-item,\n",
       "div.sk-serial,\n",
       "div.sk-item {\n",
       "  /* draw centered vertical line to link estimators */\n",
       "  background-image: linear-gradient(var(--sklearn-color-text-on-default-background), var(--sklearn-color-text-on-default-background));\n",
       "  background-size: 2px 100%;\n",
       "  background-repeat: no-repeat;\n",
       "  background-position: center center;\n",
       "}\n",
       "\n",
       "/* Parallel-specific style estimator block */\n",
       "\n",
       "#sk-container-id-4 div.sk-parallel-item::after {\n",
       "  content: \"\";\n",
       "  width: 100%;\n",
       "  border-bottom: 2px solid var(--sklearn-color-text-on-default-background);\n",
       "  flex-grow: 1;\n",
       "}\n",
       "\n",
       "#sk-container-id-4 div.sk-parallel {\n",
       "  display: flex;\n",
       "  align-items: stretch;\n",
       "  justify-content: center;\n",
       "  background-color: var(--sklearn-color-background);\n",
       "  position: relative;\n",
       "}\n",
       "\n",
       "#sk-container-id-4 div.sk-parallel-item {\n",
       "  display: flex;\n",
       "  flex-direction: column;\n",
       "}\n",
       "\n",
       "#sk-container-id-4 div.sk-parallel-item:first-child::after {\n",
       "  align-self: flex-end;\n",
       "  width: 50%;\n",
       "}\n",
       "\n",
       "#sk-container-id-4 div.sk-parallel-item:last-child::after {\n",
       "  align-self: flex-start;\n",
       "  width: 50%;\n",
       "}\n",
       "\n",
       "#sk-container-id-4 div.sk-parallel-item:only-child::after {\n",
       "  width: 0;\n",
       "}\n",
       "\n",
       "/* Serial-specific style estimator block */\n",
       "\n",
       "#sk-container-id-4 div.sk-serial {\n",
       "  display: flex;\n",
       "  flex-direction: column;\n",
       "  align-items: center;\n",
       "  background-color: var(--sklearn-color-background);\n",
       "  padding-right: 1em;\n",
       "  padding-left: 1em;\n",
       "}\n",
       "\n",
       "\n",
       "/* Toggleable style: style used for estimator/Pipeline/ColumnTransformer box that is\n",
       "clickable and can be expanded/collapsed.\n",
       "- Pipeline and ColumnTransformer use this feature and define the default style\n",
       "- Estimators will overwrite some part of the style using the `sk-estimator` class\n",
       "*/\n",
       "\n",
       "/* Pipeline and ColumnTransformer style (default) */\n",
       "\n",
       "#sk-container-id-4 div.sk-toggleable {\n",
       "  /* Default theme specific background. It is overwritten whether we have a\n",
       "  specific estimator or a Pipeline/ColumnTransformer */\n",
       "  background-color: var(--sklearn-color-background);\n",
       "}\n",
       "\n",
       "/* Toggleable label */\n",
       "#sk-container-id-4 label.sk-toggleable__label {\n",
       "  cursor: pointer;\n",
       "  display: block;\n",
       "  width: 100%;\n",
       "  margin-bottom: 0;\n",
       "  padding: 0.5em;\n",
       "  box-sizing: border-box;\n",
       "  text-align: center;\n",
       "}\n",
       "\n",
       "#sk-container-id-4 label.sk-toggleable__label-arrow:before {\n",
       "  /* Arrow on the left of the label */\n",
       "  content: \"▸\";\n",
       "  float: left;\n",
       "  margin-right: 0.25em;\n",
       "  color: var(--sklearn-color-icon);\n",
       "}\n",
       "\n",
       "#sk-container-id-4 label.sk-toggleable__label-arrow:hover:before {\n",
       "  color: var(--sklearn-color-text);\n",
       "}\n",
       "\n",
       "/* Toggleable content - dropdown */\n",
       "\n",
       "#sk-container-id-4 div.sk-toggleable__content {\n",
       "  max-height: 0;\n",
       "  max-width: 0;\n",
       "  overflow: hidden;\n",
       "  text-align: left;\n",
       "  /* unfitted */\n",
       "  background-color: var(--sklearn-color-unfitted-level-0);\n",
       "}\n",
       "\n",
       "#sk-container-id-4 div.sk-toggleable__content.fitted {\n",
       "  /* fitted */\n",
       "  background-color: var(--sklearn-color-fitted-level-0);\n",
       "}\n",
       "\n",
       "#sk-container-id-4 div.sk-toggleable__content pre {\n",
       "  margin: 0.2em;\n",
       "  border-radius: 0.25em;\n",
       "  color: var(--sklearn-color-text);\n",
       "  /* unfitted */\n",
       "  background-color: var(--sklearn-color-unfitted-level-0);\n",
       "}\n",
       "\n",
       "#sk-container-id-4 div.sk-toggleable__content.fitted pre {\n",
       "  /* unfitted */\n",
       "  background-color: var(--sklearn-color-fitted-level-0);\n",
       "}\n",
       "\n",
       "#sk-container-id-4 input.sk-toggleable__control:checked~div.sk-toggleable__content {\n",
       "  /* Expand drop-down */\n",
       "  max-height: 200px;\n",
       "  max-width: 100%;\n",
       "  overflow: auto;\n",
       "}\n",
       "\n",
       "#sk-container-id-4 input.sk-toggleable__control:checked~label.sk-toggleable__label-arrow:before {\n",
       "  content: \"▾\";\n",
       "}\n",
       "\n",
       "/* Pipeline/ColumnTransformer-specific style */\n",
       "\n",
       "#sk-container-id-4 div.sk-label input.sk-toggleable__control:checked~label.sk-toggleable__label {\n",
       "  color: var(--sklearn-color-text);\n",
       "  background-color: var(--sklearn-color-unfitted-level-2);\n",
       "}\n",
       "\n",
       "#sk-container-id-4 div.sk-label.fitted input.sk-toggleable__control:checked~label.sk-toggleable__label {\n",
       "  background-color: var(--sklearn-color-fitted-level-2);\n",
       "}\n",
       "\n",
       "/* Estimator-specific style */\n",
       "\n",
       "/* Colorize estimator box */\n",
       "#sk-container-id-4 div.sk-estimator input.sk-toggleable__control:checked~label.sk-toggleable__label {\n",
       "  /* unfitted */\n",
       "  background-color: var(--sklearn-color-unfitted-level-2);\n",
       "}\n",
       "\n",
       "#sk-container-id-4 div.sk-estimator.fitted input.sk-toggleable__control:checked~label.sk-toggleable__label {\n",
       "  /* fitted */\n",
       "  background-color: var(--sklearn-color-fitted-level-2);\n",
       "}\n",
       "\n",
       "#sk-container-id-4 div.sk-label label.sk-toggleable__label,\n",
       "#sk-container-id-4 div.sk-label label {\n",
       "  /* The background is the default theme color */\n",
       "  color: var(--sklearn-color-text-on-default-background);\n",
       "}\n",
       "\n",
       "/* On hover, darken the color of the background */\n",
       "#sk-container-id-4 div.sk-label:hover label.sk-toggleable__label {\n",
       "  color: var(--sklearn-color-text);\n",
       "  background-color: var(--sklearn-color-unfitted-level-2);\n",
       "}\n",
       "\n",
       "/* Label box, darken color on hover, fitted */\n",
       "#sk-container-id-4 div.sk-label.fitted:hover label.sk-toggleable__label.fitted {\n",
       "  color: var(--sklearn-color-text);\n",
       "  background-color: var(--sklearn-color-fitted-level-2);\n",
       "}\n",
       "\n",
       "/* Estimator label */\n",
       "\n",
       "#sk-container-id-4 div.sk-label label {\n",
       "  font-family: monospace;\n",
       "  font-weight: bold;\n",
       "  display: inline-block;\n",
       "  line-height: 1.2em;\n",
       "}\n",
       "\n",
       "#sk-container-id-4 div.sk-label-container {\n",
       "  text-align: center;\n",
       "}\n",
       "\n",
       "/* Estimator-specific */\n",
       "#sk-container-id-4 div.sk-estimator {\n",
       "  font-family: monospace;\n",
       "  border: 1px dotted var(--sklearn-color-border-box);\n",
       "  border-radius: 0.25em;\n",
       "  box-sizing: border-box;\n",
       "  margin-bottom: 0.5em;\n",
       "  /* unfitted */\n",
       "  background-color: var(--sklearn-color-unfitted-level-0);\n",
       "}\n",
       "\n",
       "#sk-container-id-4 div.sk-estimator.fitted {\n",
       "  /* fitted */\n",
       "  background-color: var(--sklearn-color-fitted-level-0);\n",
       "}\n",
       "\n",
       "/* on hover */\n",
       "#sk-container-id-4 div.sk-estimator:hover {\n",
       "  /* unfitted */\n",
       "  background-color: var(--sklearn-color-unfitted-level-2);\n",
       "}\n",
       "\n",
       "#sk-container-id-4 div.sk-estimator.fitted:hover {\n",
       "  /* fitted */\n",
       "  background-color: var(--sklearn-color-fitted-level-2);\n",
       "}\n",
       "\n",
       "/* Specification for estimator info (e.g. \"i\" and \"?\") */\n",
       "\n",
       "/* Common style for \"i\" and \"?\" */\n",
       "\n",
       ".sk-estimator-doc-link,\n",
       "a:link.sk-estimator-doc-link,\n",
       "a:visited.sk-estimator-doc-link {\n",
       "  float: right;\n",
       "  font-size: smaller;\n",
       "  line-height: 1em;\n",
       "  font-family: monospace;\n",
       "  background-color: var(--sklearn-color-background);\n",
       "  border-radius: 1em;\n",
       "  height: 1em;\n",
       "  width: 1em;\n",
       "  text-decoration: none !important;\n",
       "  margin-left: 1ex;\n",
       "  /* unfitted */\n",
       "  border: var(--sklearn-color-unfitted-level-1) 1pt solid;\n",
       "  color: var(--sklearn-color-unfitted-level-1);\n",
       "}\n",
       "\n",
       ".sk-estimator-doc-link.fitted,\n",
       "a:link.sk-estimator-doc-link.fitted,\n",
       "a:visited.sk-estimator-doc-link.fitted {\n",
       "  /* fitted */\n",
       "  border: var(--sklearn-color-fitted-level-1) 1pt solid;\n",
       "  color: var(--sklearn-color-fitted-level-1);\n",
       "}\n",
       "\n",
       "/* On hover */\n",
       "div.sk-estimator:hover .sk-estimator-doc-link:hover,\n",
       ".sk-estimator-doc-link:hover,\n",
       "div.sk-label-container:hover .sk-estimator-doc-link:hover,\n",
       ".sk-estimator-doc-link:hover {\n",
       "  /* unfitted */\n",
       "  background-color: var(--sklearn-color-unfitted-level-3);\n",
       "  color: var(--sklearn-color-background);\n",
       "  text-decoration: none;\n",
       "}\n",
       "\n",
       "div.sk-estimator.fitted:hover .sk-estimator-doc-link.fitted:hover,\n",
       ".sk-estimator-doc-link.fitted:hover,\n",
       "div.sk-label-container:hover .sk-estimator-doc-link.fitted:hover,\n",
       ".sk-estimator-doc-link.fitted:hover {\n",
       "  /* fitted */\n",
       "  background-color: var(--sklearn-color-fitted-level-3);\n",
       "  color: var(--sklearn-color-background);\n",
       "  text-decoration: none;\n",
       "}\n",
       "\n",
       "/* Span, style for the box shown on hovering the info icon */\n",
       ".sk-estimator-doc-link span {\n",
       "  display: none;\n",
       "  z-index: 9999;\n",
       "  position: relative;\n",
       "  font-weight: normal;\n",
       "  right: .2ex;\n",
       "  padding: .5ex;\n",
       "  margin: .5ex;\n",
       "  width: min-content;\n",
       "  min-width: 20ex;\n",
       "  max-width: 50ex;\n",
       "  color: var(--sklearn-color-text);\n",
       "  box-shadow: 2pt 2pt 4pt #999;\n",
       "  /* unfitted */\n",
       "  background: var(--sklearn-color-unfitted-level-0);\n",
       "  border: .5pt solid var(--sklearn-color-unfitted-level-3);\n",
       "}\n",
       "\n",
       ".sk-estimator-doc-link.fitted span {\n",
       "  /* fitted */\n",
       "  background: var(--sklearn-color-fitted-level-0);\n",
       "  border: var(--sklearn-color-fitted-level-3);\n",
       "}\n",
       "\n",
       ".sk-estimator-doc-link:hover span {\n",
       "  display: block;\n",
       "}\n",
       "\n",
       "/* \"?\"-specific style due to the `<a>` HTML tag */\n",
       "\n",
       "#sk-container-id-4 a.estimator_doc_link {\n",
       "  float: right;\n",
       "  font-size: 1rem;\n",
       "  line-height: 1em;\n",
       "  font-family: monospace;\n",
       "  background-color: var(--sklearn-color-background);\n",
       "  border-radius: 1rem;\n",
       "  height: 1rem;\n",
       "  width: 1rem;\n",
       "  text-decoration: none;\n",
       "  /* unfitted */\n",
       "  color: var(--sklearn-color-unfitted-level-1);\n",
       "  border: var(--sklearn-color-unfitted-level-1) 1pt solid;\n",
       "}\n",
       "\n",
       "#sk-container-id-4 a.estimator_doc_link.fitted {\n",
       "  /* fitted */\n",
       "  border: var(--sklearn-color-fitted-level-1) 1pt solid;\n",
       "  color: var(--sklearn-color-fitted-level-1);\n",
       "}\n",
       "\n",
       "/* On hover */\n",
       "#sk-container-id-4 a.estimator_doc_link:hover {\n",
       "  /* unfitted */\n",
       "  background-color: var(--sklearn-color-unfitted-level-3);\n",
       "  color: var(--sklearn-color-background);\n",
       "  text-decoration: none;\n",
       "}\n",
       "\n",
       "#sk-container-id-4 a.estimator_doc_link.fitted:hover {\n",
       "  /* fitted */\n",
       "  background-color: var(--sklearn-color-fitted-level-3);\n",
       "}\n",
       "</style><div id=\"sk-container-id-4\" class=\"sk-top-container\"><div class=\"sk-text-repr-fallback\"><pre>LinearRegression()</pre><b>In a Jupyter environment, please rerun this cell to show the HTML representation or trust the notebook. <br />On GitHub, the HTML representation is unable to render, please try loading this page with nbviewer.org.</b></div><div class=\"sk-container\" hidden><div class=\"sk-item\"><div class=\"sk-estimator fitted sk-toggleable\"><input class=\"sk-toggleable__control sk-hidden--visually\" id=\"sk-estimator-id-4\" type=\"checkbox\" checked><label for=\"sk-estimator-id-4\" class=\"sk-toggleable__label fitted sk-toggleable__label-arrow fitted\">&nbsp;&nbsp;LinearRegression<a class=\"sk-estimator-doc-link fitted\" rel=\"noreferrer\" target=\"_blank\" href=\"https://scikit-learn.org/1.5/modules/generated/sklearn.linear_model.LinearRegression.html\">?<span>Documentation for LinearRegression</span></a><span class=\"sk-estimator-doc-link fitted\">i<span>Fitted</span></span></label><div class=\"sk-toggleable__content fitted\"><pre>LinearRegression()</pre></div> </div></div></div></div>"
      ],
      "text/plain": [
       "LinearRegression()"
      ]
     },
     "execution_count": 73,
     "metadata": {},
     "output_type": "execute_result"
    }
   ],
   "source": [
    "X_sklearn = X_sklearn.reshape(X_sklearn.shape[0], X_sklearn.shape[1])\n",
    "Y_sklearn = Y_sklearn.reshape(Y_sklearn.shape[0], Y_sklearn.shape[1])\n",
    "lr_sklearn.fit(X_sklearn, Y_sklearn)"
   ]
  },
  {
   "cell_type": "code",
   "execution_count": null,
   "metadata": {
    "colab": {
     "base_uri": "https://localhost:8080/"
    },
    "id": "LYvHrcJq6rPq",
    "outputId": "395a841f-25b4-4b25-88fb-ce8b6a5225a3"
   },
   "outputs": [
    {
     "name": "stdout",
     "output_type": "stream",
     "text": [
      "Linear regression using Scikit-Learn. Slope: [[0.04753664]]. Intercept: [7.03259355]\n"
     ]
    }
   ],
   "source": [
    "m_sklearn = lr_sklearn.coef_\n",
    "b_sklearn = lr_sklearn.intercept_\n",
    "\n",
    "print(f\"Linear regression using Scikit-Learn. Slope: {m_sklearn}. Intercept: {b_sklearn}\")"
   ]
  },
  {
   "cell_type": "markdown",
   "metadata": {
    "id": "7rx3XwED6rPq"
   },
   "source": [
    "##### __Expected Output__\n",
    "\n",
    "```Python\n",
    "Linear regression using Scikit-Learn. Slope: [[0.04753664]]. Intercept: [7.03259355]\n",
    "```"
   ]
  },
  {
   "cell_type": "code",
   "execution_count": null,
   "metadata": {
    "colab": {
     "base_uri": "https://localhost:8080/"
    },
    "id": "RxVh7BKa6rPq",
    "outputId": "f793ffde-20d1-43f0-b2ad-8a04a5bf1148"
   },
   "outputs": [
    {
     "name": "stdout",
     "output_type": "stream",
     "text": [
      "\u001b[92m All tests passed\n"
     ]
    }
   ],
   "source": [
    "w2_unittest.test_sklearn_fit(lr_sklearn)"
   ]
  },
  {
   "cell_type": "markdown",
   "metadata": {
    "id": "XbJwE8WC6rPr"
   },
   "source": [
    "Note that you have got the same result as with the `NumPy` function `polyfit`. Now, to make predictions it is convenient to use `Scikit-Learn` function `predict`."
   ]
  },
  {
   "cell_type": "markdown",
   "metadata": {
    "id": "VIHSnBHU6rPr"
   },
   "source": [
    "<a name='ex04'></a>\n",
    "### Exercise 4\n",
    "\n",
    "\n",
    "Increase the dimension of the $X$ array using the function `np.newaxis` (see an example above) and pass the result to the `lr_sklearn.predict` function to make predictions."
   ]
  },
  {
   "cell_type": "code",
   "execution_count": null,
   "metadata": {
    "id": "vz1rPBC76rPr"
   },
   "outputs": [],
   "source": [
    "# This is organised as a function only for grading purposes.\n",
    "def pred_sklearn(X, lr_sklearn):\n",
    "    ### START CODE HERE ### (~ 2 lines of code)\n",
    "    X_2D = X[:, np.newaxis]\n",
    "    Y = lr_sklearn.predict(X_2D)\n",
    "    ### END CODE HERE ###\n",
    "\n",
    "    return Y"
   ]
  },
  {
   "cell_type": "code",
   "execution_count": null,
   "metadata": {
    "colab": {
     "base_uri": "https://localhost:8080/"
    },
    "id": "_v7k5vNT6rPr",
    "outputId": "9e2da44b-0a2e-4f99-e62b-01f040247ceb"
   },
   "outputs": [
    {
     "name": "stdout",
     "output_type": "stream",
     "text": [
      "TV marketing expenses:\n",
      "[ 50 120 280]\n",
      "Predictions of sales using Scikit_Learn linear regression:\n",
      "[[ 9.40942557 12.7369904  20.34285287]]\n"
     ]
    }
   ],
   "source": [
    "Y_pred_sklearn = pred_sklearn(X_pred, lr_sklearn)\n",
    "\n",
    "print(f\"TV marketing expenses:\\n{X_pred}\")\n",
    "print(f\"Predictions of sales using Scikit_Learn linear regression:\\n{Y_pred_sklearn.T}\")"
   ]
  },
  {
   "cell_type": "markdown",
   "metadata": {
    "id": "3quhRjne6rPr"
   },
   "source": [
    "##### __Expected Output__\n",
    "\n",
    "```Python\n",
    "TV marketing expenses:\n",
    "[ 50 120 280]\n",
    "Predictions of sales using Scikit_Learn linear regression:\n",
    "[[ 9.40942557 12.7369904  20.34285287]]\n",
    "```"
   ]
  },
  {
   "cell_type": "code",
   "execution_count": null,
   "metadata": {
    "colab": {
     "base_uri": "https://localhost:8080/"
    },
    "id": "QUStlP1c6rP8",
    "outputId": "cfe9efdd-9f09-4913-a52b-18f89cf469f1"
   },
   "outputs": [
    {
     "name": "stdout",
     "output_type": "stream",
     "text": [
      "\u001b[92m All tests passed\n"
     ]
    }
   ],
   "source": [
    "w2_unittest.test_sklearn_predict(pred_sklearn, lr_sklearn)"
   ]
  },
  {
   "cell_type": "markdown",
   "metadata": {
    "id": "59GjuPBy6rP8"
   },
   "source": [
    "You can plot the linear regression line and the predictions by running the following code. The regression line is red and the predicted points are blue."
   ]
  },
  {
   "cell_type": "code",
   "execution_count": null,
   "metadata": {
    "colab": {
     "base_uri": "https://localhost:8080/",
     "height": 444
    },
    "id": "Rges5Gh26rP8",
    "outputId": "93b406be-d127-43df-9840-06387fb0d3a2"
   },
   "outputs": [
    {
     "data": {
      "text/plain": [
       "[<matplotlib.lines.Line2D at 0x78a902ed3e20>]"
      ]
     },
     "execution_count": 79,
     "metadata": {},
     "output_type": "execute_result"
    },
    {
     "data": {
      "image/png": "[encoded data removed]",
      "text/plain": [
       "<Figure size 800x500 with 1 Axes>"
      ]
     },
     "metadata": {},
     "output_type": "display_data"
    }
   ],
   "source": [
    "fig, ax = plt.subplots(1,1,figsize=(8,5))\n",
    "ax.plot(X, Y, 'o', color='black')\n",
    "ax.set_xlabel('TV')\n",
    "ax.set_ylabel('Sales')\n",
    "\n",
    "ax.plot(X, m_sklearn[0][0]*X+b_sklearn[0], color='red')\n",
    "ax.plot(X_pred, Y_pred_sklearn, 'o', color='blue')"
   ]
  },
  {
   "cell_type": "markdown",
   "metadata": {
    "id": "czJF_mst6rP9"
   },
   "source": [
    "<a name='3'></a>\n",
    "## 3 - Linear Regression using Gradient Descent"
   ]
  },
  {
   "cell_type": "markdown",
   "metadata": {
    "id": "ZWUlaAA36rP9"
   },
   "source": [
    "Functions to fit the models automatically are convenient to use, but for an in-depth understanding of the model and the maths behind it is good to implement an algorithm by yourself. Let's try to find linear regression coefficients $m$ and $b$, by minimising the difference between original values $y^{(i)}$ and predicted values $\\hat{y}^{(i)}$ with the **loss function** $L\\left(w, b\\right)  = \\frac{1}{2}\\left(\\hat{y}^{(i)} - y^{(i)}\\right)^2$ for each of the training examples. Division by $2$ is taken just for scaling purposes, you will see the reason below, calculating partial derivatives.\n",
    "\n",
    "To compare the resulting vector of the predictions $\\hat{Y}$ with the vector $Y$ of original values $y^{(i)}$, you can take an average of the loss function values for each of the training examples:\n",
    "\n",
    "$$E\\left(m, b\\right) = \\frac{1}{2n}\\sum_{i=1}^{n} \\left(\\hat{y}^{(i)} - y^{(i)}\\right)^2 =\n",
    "\\frac{1}{2n}\\sum_{i=1}^{n} \\left(mx^{(i)}+b - y^{(i)}\\right)^2,\\tag{1}$$\n",
    "\n",
    "where $n$ is a number of data points. This function is called the sum of squares **cost function**. To use gradient descent algorithm, calculate partial derivatives as:\n",
    "\n",
    "\\begin{align}\n",
    "\\frac{\\partial E }{ \\partial m } &=\n",
    "\\frac{1}{n}\\sum_{i=1}^{n} \\left(mx^{(i)}+b - y^{(i)}\\right)x^{(i)},\\\\\n",
    "\\frac{\\partial E }{ \\partial b } &=\n",
    "\\frac{1}{n}\\sum_{i=1}^{n} \\left(mx^{(i)}+b - y^{(i)}\\right),\n",
    "\\tag{2}\\end{align}\n",
    "\n",
    "and update the parameters iteratively using the expressions\n",
    "\n",
    "\\begin{align}\n",
    "m &= m - \\alpha \\frac{\\partial E }{ \\partial m },\\\\\n",
    "b &= b - \\alpha \\frac{\\partial E }{ \\partial b },\n",
    "\\tag{3}\\end{align}\n",
    "\n",
    "where $\\alpha$ is the learning rate."
   ]
  },
  {
   "cell_type": "markdown",
   "metadata": {
    "id": "zCHTgH8t6rP9"
   },
   "source": [
    "Original arrays `X` and `Y` have different units. To make gradient descent algorithm efficient, you need to bring them to the same units. A common approach to it is called **normalization**: substract the mean value of the array from each of the elements in the array and divide them by standard deviation (a statistical measure of the amount of dispersion of a set of values). If you are not familiar with mean and standard deviation, do not worry about this for now - this is covered in the next Course of Specialization.\n",
    "\n",
    "Normalization is not compulsory - gradient descent would work without it. But due to different units of `X` and `Y`, the cost function will be much steeper. Then you would need to take a significantly smaller learning rate $\\alpha$, and the algorithm will require thousands of iterations to converge instead of a few dozens. Normalization helps to increase the efficiency of the gradient descent algorithm.\n",
    "\n",
    "Normalization is implemented in the following code:"
   ]
  },
  {
   "cell_type": "code",
   "execution_count": null,
   "metadata": {
    "colab": {
     "base_uri": "https://localhost:8080/"
    },
    "id": "5NNim33L6rP9",
    "outputId": "95440588-1c24-48ea-ddb5-3130650185ea"
   },
   "outputs": [
    {
     "name": "stdout",
     "output_type": "stream",
     "text": [
      "X_norm:            TV\n",
      "0    0.969852\n",
      "1   -1.197376\n",
      "2   -1.516155\n",
      "3    0.052050\n",
      "4    0.394182\n",
      "..        ...\n",
      "195 -1.270941\n",
      "196 -0.617035\n",
      "197  0.349810\n",
      "198  1.594565\n",
      "199  0.993206\n",
      "\n",
      "[200 rows x 1 columns]\n",
      "Y_norm:         Sales\n",
      "0    1.552053\n",
      "1   -0.696046\n",
      "2   -0.907406\n",
      "3    0.860330\n",
      "4   -0.215683\n",
      "..        ...\n",
      "195 -1.234053\n",
      "196 -0.830548\n",
      "197 -0.234898\n",
      "198  2.205347\n",
      "199 -0.119610\n",
      "\n",
      "[200 rows x 1 columns]\n"
     ]
    },
    {
     "name": "stderr",
     "output_type": "stream",
     "text": [
      "/usr/local/lib/python3.10/dist-packages/numpy/core/fromnumeric.py:3643: FutureWarning: The behavior of DataFrame.std with axis=None is deprecated, in a future version this will reduce over both axes and return a scalar. To retain the old behavior, pass axis=0 (or do not pass axis)\n",
      "  return std(axis=axis, dtype=dtype, out=out, ddof=ddof, **kwargs)\n"
     ]
    }
   ],
   "source": [
    "X_norm = (X - np.mean(X))/np.std(X)\n",
    "Y_norm = (Y - np.mean(Y))/np.std(Y)\n",
    "\n",
    "print(\"X_norm:\", X_norm)\n",
    "print(\"Y_norm:\", Y_norm)\n"
   ]
  },
  {
   "cell_type": "markdown",
   "metadata": {
    "id": "kCBxhhum6rP9"
   },
   "source": [
    "Define cost function according to the equation $(1)$:"
   ]
  },
  {
   "cell_type": "code",
   "execution_count": null,
   "metadata": {
    "id": "AQ3uz1D56rP9"
   },
   "outputs": [],
   "source": [
    "def E(m, b, X, Y):\n",
    "    return 1/(2*len(Y))*np.sum((m*X + b - Y)**2)"
   ]
  },
  {
   "cell_type": "markdown",
   "metadata": {
    "id": "wAvTn3LN6rP9"
   },
   "source": [
    "<a name='ex05'></a>\n",
    "### Exercise 5\n",
    "\n",
    "\n",
    "Define functions `dEdm` and `dEdb` to calculate partial derivatives according to the equations $(2)$. This can be done using vector form of the input data `X` and `Y`."
   ]
  },
  {
   "cell_type": "code",
   "execution_count": null,
   "metadata": {
    "id": "uj4u10Et6rP-"
   },
   "outputs": [],
   "source": [
    "import numpy as np\n",
    "\n",
    "def dEdm(m, b, X, Y):\n",
    "    X = np.array(X, dtype=np.float64)\n",
    "    Y = np.array(Y, dtype=np.float64)\n",
    "    res = (1 / len(Y)) * np.sum((m * X + b - Y) * X)\n",
    "    return res\n",
    "\n",
    "def dEdb(m, b, X, Y):\n",
    "    X = np.array(X, dtype=np.float64)\n",
    "    Y = np.array(Y, dtype=np.float64)\n",
    "    res = (1 / len(Y)) * np.sum(m * X + b - Y)\n",
    "    return res\n"
   ]
  },
  {
   "cell_type": "code",
   "execution_count": null,
   "metadata": {
    "colab": {
     "base_uri": "https://localhost:8080/"
    },
    "id": "VYaPVRCY6rP-",
    "outputId": "3793825b-dc19-47e7-e154-30089d8ad0cf"
   },
   "outputs": [
    {
     "name": "stdout",
     "output_type": "stream",
     "text": [
      "-0.7822244248616065\n",
      "1.687538997430238e-16\n",
      "0.21777557513839405\n",
      "5.000000000000001\n"
     ]
    }
   ],
   "source": [
    "print(dEdm(0, 0, X_norm, Y_norm))\n",
    "print(dEdb(0, 0, X_norm, Y_norm))\n",
    "print(dEdm(1, 5, X_norm, Y_norm))\n",
    "print(dEdb(1, 5, X_norm, Y_norm))"
   ]
  },
  {
   "cell_type": "markdown",
   "metadata": {
    "id": "-wvF75fE6rP-"
   },
   "source": [
    "##### __Expected Output__\n",
    "\n",
    "```Python\n",
    "-0.7822244248616067\n",
    "5.098005351200641e-16\n",
    "0.21777557513839355\n",
    "5.000000000000002\n",
    "```"
   ]
  },
  {
   "cell_type": "code",
   "execution_count": null,
   "metadata": {
    "colab": {
     "base_uri": "https://localhost:8080/"
    },
    "id": "mn6A-bDI6rP-",
    "outputId": "e97302cd-6737-4fb4-d6c9-667aad13c35f"
   },
   "outputs": [
    {
     "name": "stdout",
     "output_type": "stream",
     "text": [
      "\u001b[92m All tests passed\n"
     ]
    }
   ],
   "source": [
    "w2_unittest.test_partial_derivatives(dEdm, dEdb, X_norm, Y_norm)"
   ]
  },
  {
   "cell_type": "markdown",
   "metadata": {
    "id": "kbAzYiHz6rP-"
   },
   "source": [
    "<a name='ex06'></a>\n",
    "### Exercise 6\n",
    "\n",
    "\n",
    "Implement gradient descent using expressions $(3)$:\n",
    "\\begin{align}\n",
    "m &= m - \\alpha \\frac{\\partial E }{ \\partial m },\\\\\n",
    "b &= b - \\alpha \\frac{\\partial E }{ \\partial b },\n",
    "\\end{align}\n",
    "\n",
    "where $\\alpha$ is the `learning_rate`."
   ]
  },
  {
   "cell_type": "code",
   "execution_count": null,
   "metadata": {
    "colab": {
     "base_uri": "https://localhost:8080/"
    },
    "id": "QXYv_2l_6rP-",
    "outputId": "3b1e4654-9f98-4bb8-ce56-854c26bac264"
   },
   "outputs": [
    {
     "name": "stdout",
     "output_type": "stream",
     "text": [
      "Cost after iteration 0: 0.985362905121917\n",
      "Cost after iteration 1: 0.9710170884319081\n",
      "Cost after iteration 2: 0.9569567534940309\n",
      "Cost after iteration 3: 0.9431762192214167\n",
      "Cost after iteration 4: 0.9296699175808276\n",
      "Cost after iteration 5: 0.9164323913428867\n",
      "Cost after iteration 6: 0.9034582918770802\n",
      "Cost after iteration 7: 0.8907423769906438\n",
      "Cost after iteration 8: 0.8782795088104474\n",
      "Cost after iteration 9: 0.8660646517070365\n",
      "Cost after iteration 10: 0.8540928702599839\n",
      "Cost after iteration 11: 0.8423593272637275\n",
      "Cost after iteration 12: 0.8308592817730966\n",
      "Cost after iteration 13: 0.8195880871877292\n",
      "Cost after iteration 14: 0.8085411893746107\n",
      "Cost after iteration 15: 0.7977141248279731\n",
      "Cost after iteration 16: 0.7871025188658138\n",
      "Cost after iteration 17: 0.7767020838623016\n",
      "Cost after iteration 18: 0.7665086175153589\n",
      "Cost after iteration 19: 0.7565180011487206\n",
      "Cost after iteration 20: 0.7467261980477783\n",
      "Cost after iteration 21: 0.7371292518285448\n",
      "Cost after iteration 22: 0.727723284839074\n",
      "Cost after iteration 23: 0.7185044965926938\n",
      "Cost after iteration 24: 0.7094691622324164\n",
      "Cost after iteration 25: 0.7006136310259085\n",
      "Cost after iteration 26: 0.6919343248904102\n",
      "Cost after iteration 27: 0.6834277369470082\n",
      "Cost after iteration 28: 0.6750904301036802\n",
      "Cost after iteration 29: 0.6669190356665343\n",
      "Cost after iteration 30: 0.6589102519786875\n",
      "Cost after iteration 31: 0.6510608430862289\n",
      "Cost after iteration 32: 0.6433676374307302\n",
      "Cost after iteration 33: 0.6358275265677761\n",
      "Cost after iteration 34: 0.6284374639109946\n",
      "Cost after iteration 35: 0.6211944635010831\n",
      "Cost after iteration 36: 0.6140955987993287\n",
      "Cost after iteration 37: 0.6071380015051393\n",
      "Cost after iteration 38: 0.6003188603971044\n",
      "Cost after iteration 39: 0.5936354201971193\n",
      "Cost after iteration 40: 0.5870849804571139\n",
      "Cost after iteration 41: 0.5806648944679346\n",
      "Cost after iteration 42: 0.57437256818994\n",
      "Cost after iteration 43: 0.5682054592048774\n",
      "Cost after iteration 44: 0.5621610756886176\n",
      "Cost after iteration 45: 0.5562369754043315\n",
      "Cost after iteration 46: 0.5504307647157025\n",
      "Cost after iteration 47: 0.5447400976197774\n",
      "Cost after iteration 48: 0.539162674799061\n",
      "Cost after iteration 49: 0.5336962426924771\n",
      "Cost after iteration 50: 0.528338592584814\n",
      "Cost after iteration 51: 0.5230875597142934\n",
      "Cost after iteration 52: 0.5179410223978962\n",
      "Cost after iteration 53: 0.5128969011740954\n",
      "Cost after iteration 54: 0.5079531579626483\n",
      "Cost after iteration 55: 0.5031077952411087\n",
      "Cost after iteration 56: 0.49835885523772794\n",
      "Cost after iteration 57: 0.49370441914041435\n",
      "Cost after iteration 58: 0.4891426063214374\n",
      "Cost after iteration 59: 0.48467157357755813\n",
      "Cost after iteration 60: 0.480289514385282\n",
      "Cost after iteration 61: 0.47599465817093217\n",
      "Cost after iteration 62: 0.4717852695952479\n",
      "Cost after iteration 63: 0.4676596478522196\n",
      "Cost after iteration 64: 0.46361612598187785\n",
      "Cost after iteration 65: 0.4596530701967557\n",
      "Cost after iteration 66: 0.4557688792217576\n",
      "Cost after iteration 67: 0.4519619836471619\n",
      "Cost after iteration 68: 0.4482308452945006\n",
      "Cost after iteration 69: 0.44457395659505733\n",
      "Cost after iteration 70: 0.44098983998073293\n",
      "Cost after iteration 71: 0.4374770472870336\n",
      "Cost after iteration 72: 0.43403415916793897\n",
      "Cost after iteration 73: 0.4306597845224142\n",
      "Cost after iteration 74: 0.42735255993233556\n",
      "Cost after iteration 75: 0.4241111491115993\n",
      "Cost after iteration 76: 0.42093424236619575\n",
      "Cost after iteration 77: 0.4178205560650257\n",
      "Cost after iteration 78: 0.41476883212124893\n",
      "Cost after iteration 79: 0.4117778374839534\n",
      "Cost after iteration 80: 0.40884636363994\n",
      "Cost after iteration 81: 0.4059732261254226\n",
      "Cost after iteration 82: 0.40315726404744395\n",
      "Cost after iteration 83: 0.40039733961481705\n",
      "Cost after iteration 84: 0.3976923376783995\n",
      "Cost after iteration 85: 0.3950411652805167\n",
      "Cost after iteration 86: 0.39244275121335165\n",
      "Cost after iteration 87: 0.38989604558612323\n",
      "Cost after iteration 88: 0.3874000194008766\n",
      "Cost after iteration 89: 0.38495366413671644\n",
      "Cost after iteration 90: 0.38255599134231305\n",
      "Cost after iteration 91: 0.38020603223651833\n",
      "Cost after iteration 92: 0.37790283731692886\n",
      "Cost after iteration 93: 0.37564547597623926\n",
      "Cost after iteration 94: 0.37343303612622947\n",
      "Cost after iteration 95: 0.37126462382923464\n",
      "Cost after iteration 96: 0.36913936293695027\n",
      "Cost after iteration 97: 0.3670563947364222\n",
      "Cost after iteration 98: 0.36501487760308465\n",
      "Cost after iteration 99: 0.36301398666070056\n",
      "Cost after iteration 100: 0.36105291344806983\n",
      "Cost after iteration 101: 0.3591308655923705\n",
      "Cost after iteration 102: 0.3572470664889996\n",
      "Cost after iteration 103: 0.3554007549877858\n",
      "Cost after iteration 104: 0.3535911850854461\n",
      "Cost after iteration 105: 0.3518176256241631\n",
      "Cost after iteration 106: 0.35007935999615947\n",
      "Cost after iteration 107: 0.34837568585415324\n",
      "Cost after iteration 108: 0.34670591482757296\n",
      "Cost after iteration 109: 0.34506937224442147\n",
      "Cost after iteration 110: 0.3434653968586748\n",
      "Cost after iteration 111: 0.3418933405831044\n",
      "Cost after iteration 112: 0.34035256822741794\n",
      "Cost after iteration 113: 0.33884245724160955\n",
      "Cost after iteration 114: 0.33736239746441876\n",
      "Cost after iteration 115: 0.33591179087679424\n",
      "Cost after iteration 116: 0.3344900513602632\n",
      "Cost after iteration 117: 0.3330966044601113\n",
      "Cost after iteration 118: 0.33173088715327237\n",
      "Cost after iteration 119: 0.3303923476208396\n",
      "Cost after iteration 120: 0.3290804450251021\n",
      "Cost after iteration 121: 0.32779464929101987\n",
      "Cost after iteration 122: 0.3265344408920458\n",
      "Cost after iteration 123: 0.3252993106402114\n",
      "Cost after iteration 124: 0.32408875948038846\n",
      "Cost after iteration 125: 0.322902298288646\n",
      "Cost after iteration 126: 0.32173944767461926\n",
      "Cost after iteration 127: 0.32059973778781153\n",
      "Cost after iteration 128: 0.3194827081277515\n",
      "Cost after iteration 129: 0.3183879073579265\n",
      "Cost after iteration 130: 0.317314893123421\n",
      "Cost after iteration 131: 0.3162632318721822\n",
      "Cost after iteration 132: 0.31523249867984304\n",
      "Cost after iteration 133: 0.31422227707803146\n",
      "Cost after iteration 134: 0.3132321588860959\n",
      "Cost after iteration 135: 0.31226174404617996\n",
      "Cost after iteration 136: 0.31131064046157825\n",
      "Cost after iteration 137: 0.31037846383831\n",
      "Cost after iteration 138: 0.309464837529845\n",
      "Cost after iteration 139: 0.3085693923849183\n",
      "Cost after iteration 140: 0.30769176659837577\n",
      "Cost after iteration 141: 0.30683160556498534\n",
      "Cost after iteration 142: 0.30598856173615935\n",
      "Cost after iteration 143: 0.3051622944795272\n",
      "Cost after iteration 144: 0.3043524699413018\n",
      "Cost after iteration 145: 0.30355876091138717\n",
      "Cost after iteration 146: 0.30278084669116784\n",
      "Cost after iteration 147: 0.30201841296393084\n",
      "Cost after iteration 148: 0.30127115166786594\n",
      "Cost after iteration 149: 0.30053876087159265\n",
      "Cost after iteration 150: 0.29982094465216524\n",
      "Cost after iteration 151: 0.2991174129755044\n",
      "Cost after iteration 152: 0.29842788157920913\n",
      "Cost after iteration 153: 0.29775207185770014\n",
      "Cost after iteration 154: 0.29708971074964924\n",
      "Cost after iteration 155: 0.2964405306276485\n",
      "Cost after iteration 156: 0.29580426919007563\n",
      "Cost after iteration 157: 0.2951806693551104\n",
      "Cost after iteration 158: 0.29456947915686094\n",
      "Cost after iteration 159: 0.29397045164355673\n",
      "Cost after iteration 160: 0.29338334477776723\n",
      "Cost after iteration 161: 0.29280792133860695\n",
      "Cost after iteration 162: 0.2922439488258859\n",
      "Cost after iteration 163: 0.29169119936616805\n",
      "Cost after iteration 164: 0.2911494496206986\n",
      "Cost after iteration 165: 0.29061848069516405\n",
      "Cost after iteration 166: 0.2900980780512475\n",
      "Cost after iteration 167: 0.2895880314199449\n",
      "Cost after iteration 168: 0.28908813471660527\n",
      "Cost after iteration 169: 0.28859818595766207\n",
      "Cost after iteration 170: 0.28811798717902193\n",
      "Cost after iteration 171: 0.28764734435607664\n",
      "Cost after iteration 172: 0.287186067325308\n",
      "Cost after iteration 173: 0.2867339697074517\n",
      "Cost after iteration 174: 0.2862908688321906\n",
      "Cost after iteration 175: 0.28585658566434735\n",
      "Cost after iteration 176: 0.2854309447315441\n",
      "Cost after iteration 177: 0.2850137740533037\n",
      "Cost after iteration 178: 0.2846049050715601\n",
      "Cost after iteration 179: 0.2842041725825535\n",
      "Cost after iteration 180: 0.28381141467007787\n",
      "Cost after iteration 181: 0.2834264726400606\n",
      "Cost after iteration 182: 0.2830491909564407\n",
      "Cost after iteration 183: 0.2826794171783248\n",
      "Cost after iteration 184: 0.28231700189839337\n",
      "Cost after iteration 185: 0.2819617986825326\n",
      "Cost after iteration 186: 0.28161366401066756\n",
      "Cost after iteration 187: 0.28127245721877253\n",
      "Cost after iteration 188: 0.2809380404420362\n",
      "Cost after iteration 189: 0.280610278559157\n",
      "Cost after iteration 190: 0.28028903913774705\n",
      "Cost after iteration 191: 0.2799741923808231\n",
      "Cost after iteration 192: 0.27966561107436205\n",
      "Cost after iteration 193: 0.2793631705358995\n",
      "Cost after iteration 194: 0.2790667485641524\n",
      "Cost after iteration 195: 0.2787762253896431\n",
      "Cost after iteration 196: 0.27849148362630644\n",
      "Cost after iteration 197: 0.27821240822406024\n",
      "Cost after iteration 198: 0.27793888642231873\n",
      "Cost after iteration 199: 0.2776708077044318\n",
      "Cost after iteration 200: 0.27740806375303095\n",
      "Cost after iteration 201: 0.2771505484062629\n",
      "Cost after iteration 202: 0.27689815761489556\n",
      "Cost after iteration 203: 0.27665078940027643\n",
      "Cost after iteration 204: 0.2764083438131282\n",
      "Cost after iteration 205: 0.2761707228931642\n",
      "Cost after iteration 206: 0.27593783062950755\n",
      "Cost after iteration 207: 0.27570957292189757\n",
      "Cost after iteration 208: 0.2754858575426691\n",
      "Cost after iteration 209: 0.2752665940994873\n",
      "Cost after iteration 210: 0.27505169399882473\n",
      "Cost after iteration 211: 0.2748410704101654\n",
      "Cost after iteration 212: 0.2746346382309204\n",
      "Cost after iteration 213: 0.2744323140520423\n",
      "Cost after iteration 214: 0.274234016124324\n",
      "Cost after iteration 215: 0.2740396643253672\n",
      "Cost after iteration 216: 0.2738491801272097\n",
      "Cost after iteration 217: 0.2736624865645955\n",
      "Cost after iteration 218: 0.27347950820387734\n",
      "Cost after iteration 219: 0.27330017111253746\n",
      "Cost after iteration 220: 0.2731244028293152\n",
      "Cost after iteration 221: 0.2729521323349292\n",
      "Cost after iteration 222: 0.27278329002338136\n",
      "Cost after iteration 223: 0.2726178076738333\n",
      "Cost after iteration 224: 0.2724556184230414\n",
      "Cost after iteration 225: 0.27229665673834014\n",
      "Cost after iteration 226: 0.27214085839116436\n",
      "Cost after iteration 227: 0.2719881604310975\n",
      "Cost after iteration 228: 0.27183850116043595\n",
      "Cost after iteration 229: 0.2716918201092605\n",
      "Cost after iteration 230: 0.27154805801100357\n",
      "Cost after iteration 231: 0.27140715677850186\n",
      "Cost after iteration 232: 0.27126905948052693\n",
      "Cost after iteration 233: 0.2711337103187817\n",
      "Cost after iteration 234: 0.27100105460535523\n",
      "Cost after iteration 235: 0.27087103874062596\n",
      "Cost after iteration 236: 0.27074361019160476\n",
      "Cost after iteration 237: 0.27061871747070915\n",
      "Cost after iteration 238: 0.2704963101149593\n",
      "Cost after iteration 239: 0.2703763386655889\n",
      "Cost after iteration 240: 0.2702587546480609\n",
      "Cost after iteration 241: 0.27014351055248176\n",
      "Cost after iteration 242: 0.2700305598144047\n",
      "Cost after iteration 243: 0.2699198567960153\n",
      "Cost after iteration 244: 0.26981135676769186\n",
      "Cost after iteration 245: 0.2697050158899321\n",
      "Cost after iteration 246: 0.26960079119563973\n",
      "Cost after iteration 247: 0.2694986405727638\n",
      "Cost after iteration 248: 0.26939852274728304\n",
      "Cost after iteration 249: 0.2693003972665294\n",
      "Cost after iteration 250: 0.26920422448284265\n",
      "Cost after iteration 251: 0.2691099655375514\n",
      "Cost after iteration 252: 0.2690175823452715\n",
      "Cost after iteration 253: 0.2689270375785178\n",
      "Cost after iteration 254: 0.2688382946526226\n",
      "Cost after iteration 255: 0.26875131771095273\n",
      "Cost after iteration 256: 0.268666071610422\n",
      "Cost after iteration 257: 0.26858252190729187\n",
      "Cost after iteration 258: 0.26850063484325404\n",
      "Cost after iteration 259: 0.2684203773317906\n",
      "Cost after iteration 260: 0.2683417169448052\n",
      "Cost after iteration 261: 0.2682646218995209\n",
      "Cost after iteration 262: 0.26818906104563767\n",
      "Cost after iteration 263: 0.2681150038527468\n",
      "Cost after iteration 264: 0.26804242039799436\n",
      "Cost after iteration 265: 0.26797128135399156\n",
      "Cost after iteration 266: 0.26790155797696447\n",
      "Cost after iteration 267: 0.26783322209514016\n",
      "Cost after iteration 268: 0.2677662460973641\n",
      "Cost after iteration 269: 0.26770060292194386\n",
      "Cost after iteration 270: 0.26763626604571444\n",
      "Cost after iteration 271: 0.26757320947332197\n",
      "Cost after iteration 272: 0.26751140772672016\n",
      "Cost after iteration 273: 0.2674508358348757\n",
      "Cost after iteration 274: 0.2673914693236789\n",
      "Cost after iteration 275: 0.267333284206055\n",
      "Cost after iteration 276: 0.26727625697227186\n",
      "Cost after iteration 277: 0.2672203645804409\n",
      "Cost after iteration 278: 0.2671655844472074\n",
      "Cost after iteration 279: 0.2671118944386252\n",
      "Cost after iteration 280: 0.2670592728612139\n",
      "Cost after iteration 281: 0.267007698453193\n",
      "Cost after iteration 282: 0.26695715037589174\n",
      "Cost after iteration 283: 0.26690760820532883\n",
      "Cost after iteration 284: 0.26685905192396003\n",
      "Cost after iteration 285: 0.26681146191259053\n",
      "Cost after iteration 286: 0.2667648189424472\n",
      "Cost after iteration 287: 0.2667191041674098\n",
      "Cost after iteration 288: 0.26667429911639556\n",
      "Cost after iteration 289: 0.26663038568589664\n",
      "Cost after iteration 290: 0.26658734613266455\n",
      "Cost after iteration 291: 0.2665451630665418\n",
      "Cost after iteration 292: 0.2665038194434349\n",
      "Cost after iteration 293: 0.2664632985584278\n",
      "Cost after iteration 294: 0.2664235840390324\n",
      "Cost after iteration 295: 0.26638465983857296\n",
      "Cost after iteration 296: 0.2663465102297026\n",
      "Cost after iteration 297: 0.26630911979804883\n",
      "Cost after iteration 298: 0.2662724734359849\n",
      "Cost after iteration 299: 0.26623655633652604\n",
      "Cost after iteration 300: 0.2662013539873465\n",
      "Cost after iteration 301: 0.26616685216491554\n",
      "Cost after iteration 302: 0.266133036928751\n",
      "Cost after iteration 303: 0.26609989461578615\n",
      "Cost after iteration 304: 0.2660674118348493\n",
      "Cost after iteration 305: 0.26603557546125306\n",
      "Cost after iteration 306: 0.2660043726314914\n",
      "Cost after iteration 307: 0.26597379073804206\n",
      "Cost after iteration 308: 0.26594381742427226\n",
      "Cost after iteration 309: 0.2659144405794465\n",
      "Cost after iteration 310: 0.2658856483338328\n",
      "Cost after iteration 311: 0.2658574290539068\n",
      "Cost after iteration 312: 0.26582977133765134\n",
      "Cost after iteration 313: 0.2658026640099494\n",
      "Cost after iteration 314: 0.26577609611806857\n",
      "Cost after iteration 315: 0.2657500569272363\n",
      "Cost after iteration 316: 0.26572453591630163\n",
      "Cost after iteration 317: 0.2656995227734845\n",
      "Cost after iteration 318: 0.2656750073922095\n",
      "Cost after iteration 319: 0.2656509798670218\n",
      "Cost after iteration 320: 0.2656274304895853\n",
      "Cost after iteration 321: 0.2656043497447599\n",
      "Cost after iteration 322: 0.2655817283067564\n",
      "Cost after iteration 323: 0.2655595570353692\n",
      "Cost after iteration 324: 0.2655378269722826\n",
      "Cost after iteration 325: 0.2655165293374515\n",
      "Cost after iteration 326: 0.2654956555255535\n",
      "Cost after iteration 327: 0.26547519710251233\n",
      "Cost after iteration 328: 0.26545514580208956\n",
      "Cost after iteration 329: 0.26543549352254525\n",
      "Cost after iteration 330: 0.26541623232336387\n",
      "Cost after iteration 331: 0.2653973544220462\n",
      "Cost after iteration 332: 0.2653788521909648\n",
      "Cost after iteration 333: 0.2653607181542819\n",
      "Cost after iteration 334: 0.2653429449849289\n",
      "Cost after iteration 335: 0.2653255255016461\n",
      "Cost after iteration 336: 0.2653084526660806\n",
      "Cost after iteration 337: 0.26529171957994296\n",
      "Cost after iteration 338: 0.2652753194822194\n",
      "Cost after iteration 339: 0.26525924574644044\n",
      "Cost after iteration 340: 0.26524349187800356\n",
      "Cost after iteration 341: 0.26522805151154855\n",
      "Cost after iteration 342: 0.265212918408386\n",
      "Cost after iteration 343: 0.2651980864539764\n",
      "Cost after iteration 344: 0.26518354965545954\n",
      "Cost after iteration 345: 0.2651693021392332\n",
      "Cost after iteration 346: 0.2651553381485797\n",
      "Cost after iteration 347: 0.2651416520413402\n",
      "Cost after iteration 348: 0.2651282382876349\n",
      "Cost after iteration 349: 0.2651150914676282\n",
      "Cost after iteration 350: 0.26510220626933967\n",
      "Cost after iteration 351: 0.2650895774864971\n",
      "Cost after iteration 352: 0.2650772000164331\n",
      "Cost after iteration 353: 0.26506506885802333\n",
      "Cost after iteration 354: 0.2650531791096659\n",
      "Cost after iteration 355: 0.2650415259673009\n",
      "Cost after iteration 356: 0.2650301047224689\n",
      "Cost after iteration 357: 0.265018910760409\n",
      "Cost after iteration 358: 0.2650079395581941\n",
      "Cost after iteration 359: 0.2649971866829034\n",
      "Cost after iteration 360: 0.2649866477898309\n",
      "Cost after iteration 361: 0.26497631862073057\n",
      "Cost after iteration 362: 0.2649661950020953\n",
      "Cost after iteration 363: 0.26495627284347084\n",
      "Cost after iteration 364: 0.2649465481358031\n",
      "Cost after iteration 365: 0.26493701694981786\n",
      "Cost after iteration 366: 0.2649276754344338\n",
      "Cost after iteration 367: 0.2649185198152058\n",
      "Cost after iteration 368: 0.26490954639280045\n",
      "Cost after iteration 369: 0.26490075154150106\n",
      "Cost after iteration 370: 0.2648921317077425\n",
      "Cost after iteration 371: 0.26488368340867574\n",
      "Cost after iteration 372: 0.26487540323076025\n",
      "Cost after iteration 373: 0.2648672878283854\n",
      "Cost after iteration 374: 0.26485933392251776\n",
      "Cost after iteration 375: 0.2648515382993771\n",
      "Cost after iteration 376: 0.2648438978091367\n",
      "Cost after iteration 377: 0.26483640936465225\n",
      "Cost after iteration 378: 0.2648290699402128\n",
      "Cost after iteration 379: 0.26482187657031997\n",
      "Cost after iteration 380: 0.2648148263484878\n",
      "Cost after iteration 381: 0.26480791642607016\n",
      "Cost after iteration 382: 0.26480114401110866\n",
      "Cost after iteration 383: 0.26479450636720486\n",
      "Cost after iteration 384: 0.2647880008124148\n",
      "Cost after iteration 385: 0.264781624718165\n",
      "Cost after iteration 386: 0.26477537550819086\n",
      "Cost after iteration 387: 0.26476925065749507\n",
      "Cost after iteration 388: 0.2647632476913282\n",
      "Cost after iteration 389: 0.26475736418418805\n",
      "Cost after iteration 390: 0.26475159775884\n",
      "Cost after iteration 391: 0.2647459460853564\n",
      "Cost after iteration 392: 0.26474040688017497\n",
      "Cost after iteration 393: 0.2647349779051768\n",
      "Cost after iteration 394: 0.2647296569667811\n",
      "Cost after iteration 395: 0.26472444191505945\n",
      "Cost after iteration 396: 0.26471933064286707\n",
      "Cost after iteration 397: 0.2647143210849912\n",
      "Cost after iteration 398: 0.2647094112173172\n",
      "Cost after iteration 399: 0.26470459905600985\n",
      "Cost after iteration 400: 0.2646998826567125\n",
      "Cost after iteration 401: 0.26469526011376127\n",
      "Cost after iteration 402: 0.26469072955941464\n",
      "Cost after iteration 403: 0.2646862891630996\n",
      "Cost after iteration 404: 0.26468193713067123\n",
      "Cost after iteration 405: 0.26467767170368817\n",
      "Cost after iteration 406: 0.26467349115870203\n",
      "Cost after iteration 407: 0.26466939380656107\n",
      "Cost after iteration 408: 0.2646653779917278\n",
      "Cost after iteration 409: 0.26466144209160974\n",
      "Cost after iteration 410: 0.26465758451590393\n",
      "Cost after iteration 411: 0.2646538037059548\n",
      "Cost after iteration 412: 0.2646500981341235\n",
      "Cost after iteration 413: 0.2646464663031717\n",
      "Cost after iteration 414: 0.2646429067456559\n",
      "Cost after iteration 415: 0.2646394180233346\n",
      "Cost after iteration 416: 0.26463599872658755\n",
      "Cost after iteration 417: 0.26463264747384574\n",
      "Cost after iteration 418: 0.2646293629110335\n",
      "Cost after iteration 419: 0.2646261437110212\n",
      "Cost after iteration 420: 0.2646229885730892\n",
      "Cost after iteration 421: 0.26461989622240195\n",
      "Cost after iteration 422: 0.2646168654094934\n",
      "Cost after iteration 423: 0.2646138949097617\n",
      "Cost after iteration 424: 0.2646109835229748\n",
      "Cost after iteration 425: 0.2646081300727849\n",
      "Cost after iteration 426: 0.2646053334062537\n",
      "Cost after iteration 427: 0.2646025923933865\n",
      "Cost after iteration 428: 0.2645999059266754\n",
      "Cost after iteration 429: 0.26459727292065194\n",
      "Cost after iteration 430: 0.2645946923114481\n",
      "Cost after iteration 431: 0.2645921630563676\n",
      "Cost after iteration 432: 0.2645896841334632\n",
      "Cost after iteration 433: 0.26458725454112464\n",
      "Cost after iteration 434: 0.26458487329767344\n",
      "Cost after iteration 435: 0.2645825394409671\n",
      "Cost after iteration 436: 0.26458025202800906\n",
      "Cost after iteration 437: 0.264578010134569\n",
      "Cost after iteration 438: 0.2645758128548083\n",
      "Cost after iteration 439: 0.26457365930091487\n",
      "Cost after iteration 440: 0.26457154860274396\n",
      "Cost after iteration 441: 0.26456947990746665\n",
      "Cost after iteration 442: 0.26456745237922535\n",
      "Cost after iteration 443: 0.2645654651987961\n",
      "Cost after iteration 444: 0.26456351756325736\n",
      "Cost after iteration 445: 0.2645616086856658\n",
      "Cost after iteration 446: 0.2645597377947383\n",
      "Cost after iteration 447: 0.2645579041345403\n",
      "Cost after iteration 448: 0.26455610696418025\n",
      "Cost after iteration 449: 0.2645543455575103\n",
      "Cost after iteration 450: 0.26455261920283313\n",
      "Cost after iteration 451: 0.264550927202614\n",
      "Cost after iteration 452: 0.2645492688731993\n",
      "Cost after iteration 453: 0.2645476435445399\n",
      "Cost after iteration 454: 0.26454605055992086\n",
      "Cost after iteration 455: 0.2645444892756957\n",
      "Cost after iteration 456: 0.26454295906102665\n",
      "Cost after iteration 457: 0.2645414592976295\n",
      "Cost after iteration 458: 0.26453998937952394\n",
      "Cost after iteration 459: 0.26453854871278865\n",
      "Cost after iteration 460: 0.2645371367153215\n",
      "Cost after iteration 461: 0.26453575281660385\n",
      "Cost after iteration 462: 0.2645343964574708\n",
      "Cost after iteration 463: 0.26453306708988433\n",
      "Cost after iteration 464: 0.2645317641767129\n",
      "Cost after iteration 465: 0.2645304871915136\n",
      "Cost after iteration 466: 0.26452923561831976\n",
      "Cost after iteration 467: 0.26452800895143247\n",
      "Cost after iteration 468: 0.26452680669521617\n",
      "Cost after iteration 469: 0.26452562836389876\n",
      "Cost after iteration 470: 0.2645244734813744\n",
      "Cost after iteration 471: 0.2645233415810123\n",
      "Cost after iteration 472: 0.26452223220546744\n",
      "Cost after iteration 473: 0.2645211449064959\n",
      "Cost after iteration 474: 0.2645200792447739\n",
      "Cost after iteration 475: 0.2645190347897203\n",
      "Cost after iteration 476: 0.26451801111932205\n",
      "Cost after iteration 477: 0.2645170078199649\n",
      "Cost after iteration 478: 0.2645160244862649\n",
      "Cost after iteration 479: 0.26451506072090547\n",
      "Cost after iteration 480: 0.26451411613447673\n",
      "Cost after iteration 481: 0.2645131903453179\n",
      "Cost after iteration 482: 0.2645122829793633\n",
      "Cost after iteration 483: 0.2645113936699913\n",
      "Cost after iteration 484: 0.2645105220578758\n",
      "Cost after iteration 485: 0.2645096677908413\n",
      "Cost after iteration 486: 0.2645088305237208\n",
      "Cost after iteration 487: 0.26450800991821605\n",
      "Cost after iteration 488: 0.2645072056427608\n",
      "Cost after iteration 489: 0.2645064173723871\n",
      "Cost after iteration 490: 0.26450564478859395\n",
      "Cost after iteration 491: 0.2645048875792182\n",
      "Cost after iteration 492: 0.264504145438309\n",
      "Cost after iteration 493: 0.26450341806600397\n",
      "Cost after iteration 494: 0.2645027051684078\n",
      "Cost after iteration 495: 0.2645020064574737\n",
      "Cost after iteration 496: 0.26450132165088724\n",
      "Cost after iteration 497: 0.2645006504719519\n",
      "Cost after iteration 498: 0.2644999926494774\n",
      "Cost after iteration 499: 0.26449934791766994\n",
      "Cost after iteration 500: 0.2644987160160257\n",
      "Cost after iteration 501: 0.26449809668922397\n",
      "Cost after iteration 502: 0.2644974896870257\n",
      "Cost after iteration 503: 0.26449689476417115\n",
      "Cost after iteration 504: 0.26449631168028154\n",
      "Cost after iteration 505: 0.2644957401997611\n",
      "Cost after iteration 506: 0.2644951800917032\n",
      "Cost after iteration 507: 0.26449463112979554\n",
      "Cost after iteration 508: 0.2644940930922299\n",
      "Cost after iteration 509: 0.2644935657616118\n",
      "Cost after iteration 510: 0.264493048924873\n",
      "Cost after iteration 511: 0.26449254237318537\n",
      "Cost after iteration 512: 0.26449204590187625\n",
      "Cost after iteration 513: 0.2644915593103462\n",
      "Cost after iteration 514: 0.26449108240198754\n",
      "Cost after iteration 515: 0.2644906149841052\n",
      "Cost after iteration 516: 0.2644901568678389\n",
      "Cost after iteration 517: 0.2644897078680861\n",
      "Cost after iteration 518: 0.26448926780342846\n",
      "Cost after iteration 519: 0.26448883649605753\n",
      "Cost after iteration 520: 0.2644884137717033\n",
      "Cost after iteration 521: 0.26448799945956364\n",
      "Cost after iteration 522: 0.26448759339223565\n",
      "Cost after iteration 523: 0.26448719540564747\n",
      "Cost after iteration 524: 0.26448680533899227\n",
      "Cost after iteration 525: 0.2644864230346637\n",
      "Cost after iteration 526: 0.2644860483381911\n",
      "Cost after iteration 527: 0.2644856810981784\n",
      "Cost after iteration 528: 0.2644853211662419\n",
      "Cost after iteration 529: 0.264484968396951\n",
      "Cost after iteration 530: 0.26448462264776895\n",
      "Cost after iteration 531: 0.26448428377899563\n",
      "Cost after iteration 532: 0.26448395165371086\n",
      "Cost after iteration 533: 0.2644836261377193\n",
      "Cost after iteration 534: 0.26448330709949597\n",
      "Cost after iteration 535: 0.26448299441013323\n",
      "Cost after iteration 536: 0.2644826879432889\n",
      "Cost after iteration 537: 0.26448238757513476\n",
      "Cost after iteration 538: 0.2644820931843068\n",
      "Cost after iteration 539: 0.26448180465185644\n",
      "Cost after iteration 540: 0.2644815218612018\n",
      "Cost after iteration 541: 0.26448124469808104\n",
      "Cost after iteration 542: 0.26448097305050655\n",
      "Cost after iteration 543: 0.26448070680871877\n",
      "Cost after iteration 544: 0.2644804458651425\n",
      "Cost after iteration 545: 0.2644801901143435\n",
      "Cost after iteration 546: 0.2644799394529853\n",
      "Cost after iteration 547: 0.26447969377978825\n",
      "Cost after iteration 548: 0.26447945299548764\n",
      "Cost after iteration 549: 0.2644792170027948\n",
      "Cost after iteration 550: 0.2644789857063564\n",
      "Cost after iteration 551: 0.2644787590127172\n",
      "Cost after iteration 552: 0.26447853683028144\n",
      "Cost after iteration 553: 0.26447831906927616\n",
      "Cost after iteration 554: 0.2644781056417148\n",
      "Cost after iteration 555: 0.264477896461362\n",
      "Cost after iteration 556: 0.26447769144369815\n",
      "Cost after iteration 557: 0.26447749050588576\n",
      "Cost after iteration 558: 0.264477293566736\n",
      "Cost after iteration 559: 0.2644771005466751\n",
      "Cost after iteration 560: 0.26447691136771356\n",
      "Cost after iteration 561: 0.2644767259534134\n",
      "Cost after iteration 562: 0.2644765442288578\n",
      "Cost after iteration 563: 0.26447636612062075\n",
      "Cost after iteration 564: 0.2644761915567376\n",
      "Cost after iteration 565: 0.2644760204666759\n",
      "Cost after iteration 566: 0.2644758527813063\n",
      "Cost after iteration 567: 0.2644756884328756\n",
      "Cost after iteration 568: 0.26447552735497865\n",
      "Cost after iteration 569: 0.2644753694825318\n",
      "Cost after iteration 570: 0.26447521475174673\n",
      "Cost after iteration 571: 0.26447506310010427\n",
      "Cost after iteration 572: 0.2644749144663294\n",
      "Cost after iteration 573: 0.26447476879036674\n",
      "Cost after iteration 574: 0.2644746260133558\n",
      "Cost after iteration 575: 0.26447448607760726\n",
      "Cost after iteration 576: 0.2644743489265801\n",
      "Cost after iteration 577: 0.2644742145048585\n",
      "Cost after iteration 578: 0.2644740827581291\n",
      "Cost after iteration 579: 0.2644739536331596\n",
      "Cost after iteration 580: 0.264473827077777\n",
      "Cost after iteration 581: 0.2644737030408465\n",
      "Cost after iteration 582: 0.264473581472251\n",
      "Cost after iteration 583: 0.26447346232287045\n",
      "Cost after iteration 584: 0.2644733455445626\n",
      "Cost after iteration 585: 0.2644732310901431\n",
      "Cost after iteration 586: 0.26447311891336656\n",
      "Cost after iteration 587: 0.2644730089689078\n",
      "Cost after iteration 588: 0.26447290121234385\n",
      "Cost after iteration 589: 0.2644727956001354\n",
      "Cost after iteration 590: 0.26447269208961\n",
      "Cost after iteration 591: 0.2644725906389441\n",
      "Cost after iteration 592: 0.2644724912071464\n",
      "Cost after iteration 593: 0.2644723937540414\n",
      "Cost after iteration 594: 0.2644722982402533\n",
      "Cost after iteration 595: 0.26447220462718957\n",
      "Cost after iteration 596: 0.2644721128770257\n",
      "Cost after iteration 597: 0.2644720229526902\n",
      "Cost after iteration 598: 0.2644719348178489\n",
      "Cost after iteration 599: 0.26447184843689103\n",
      "Cost after iteration 600: 0.26447176377491416\n",
      "Cost after iteration 601: 0.26447168079771066\n",
      "Cost after iteration 602: 0.2644715994717535\n",
      "Cost after iteration 603: 0.2644715197641828\n",
      "Cost after iteration 604: 0.2644714416427929\n",
      "Cost after iteration 605: 0.26447136507601865\n",
      "Cost after iteration 606: 0.2644712900329231\n",
      "Cost after iteration 607: 0.26447121648318517\n",
      "Cost after iteration 608: 0.26447114439708713\n",
      "Cost after iteration 609: 0.2644710737455024\n",
      "Cost after iteration 610: 0.26447100449988414\n",
      "Cost after iteration 611: 0.2644709366322537\n",
      "Cost after iteration 612: 0.26447087011518916\n",
      "Cost after iteration 613: 0.26447080492181413\n",
      "Cost after iteration 614: 0.26447074102578727\n",
      "Cost after iteration 615: 0.26447067840129146\n",
      "Cost after iteration 616: 0.264470617023023\n",
      "Cost after iteration 617: 0.26447055686618215\n",
      "Cost after iteration 618: 0.26447049790646243\n",
      "Cost after iteration 619: 0.2644704401200412\n",
      "Cost after iteration 620: 0.26447038348356955\n",
      "Cost after iteration 621: 0.26447032797416375\n",
      "Cost after iteration 622: 0.2644702735693952\n",
      "Cost after iteration 623: 0.2644702202472815\n",
      "Cost after iteration 624: 0.2644701679862779\n",
      "Cost after iteration 625: 0.2644701167652682\n",
      "Cost after iteration 626: 0.2644700665635567\n",
      "Cost after iteration 627: 0.2644700173608592\n",
      "Cost after iteration 628: 0.26446996913729537\n",
      "Cost after iteration 629: 0.2644699218733805\n",
      "Cost after iteration 630: 0.26446987555001755\n",
      "Cost after iteration 631: 0.26446983014848946\n",
      "Cost after iteration 632: 0.26446978565045176\n",
      "Cost after iteration 633: 0.26446974203792506\n",
      "Cost after iteration 634: 0.2644696992932876\n",
      "Cost after iteration 635: 0.2644696573992685\n",
      "Cost after iteration 636: 0.2644696163389403\n",
      "Cost after iteration 637: 0.26446957609571264\n",
      "Cost after iteration 638: 0.2644695366533253\n",
      "Cost after iteration 639: 0.2644694979958414\n",
      "Cost after iteration 640: 0.26446946010764144\n",
      "Cost after iteration 641: 0.2644694229734166\n",
      "Cost after iteration 642: 0.2644693865781629\n",
      "Cost after iteration 643: 0.26446935090717466\n",
      "Cost after iteration 644: 0.2644693159460393\n",
      "Cost after iteration 645: 0.26446928168063033\n",
      "Cost after iteration 646: 0.26446924809710304\n",
      "Cost after iteration 647: 0.26446921518188804\n",
      "Cost after iteration 648: 0.26446918292168575\n",
      "Cost after iteration 649: 0.2644691513034615\n",
      "Cost after iteration 650: 0.2644691203144398\n",
      "Cost after iteration 651: 0.2644690899420997\n",
      "Cost after iteration 652: 0.2644690601741692\n",
      "Cost after iteration 653: 0.26446903099862057\n",
      "Cost after iteration 654: 0.2644690024036653\n",
      "Cost after iteration 655: 0.26446897437774963\n",
      "Cost after iteration 656: 0.26446894690954964\n",
      "Cost after iteration 657: 0.2644689199879669\n",
      "Cost after iteration 658: 0.26446889360212367\n",
      "Cost after iteration 659: 0.2644688677413587\n",
      "Cost after iteration 660: 0.2644688423952229\n",
      "Cost after iteration 661: 0.26446881755347523\n",
      "Cost after iteration 662: 0.26446879320607836\n",
      "Cost after iteration 663: 0.2644687693431947\n",
      "Cost after iteration 664: 0.26446874595518244\n",
      "Cost after iteration 665: 0.26446872303259156\n",
      "Cost after iteration 666: 0.26446870056616023\n",
      "Cost after iteration 667: 0.26446867854681094\n",
      "Cost after iteration 668: 0.2644686569656467\n",
      "Cost after iteration 669: 0.26446863581394753\n",
      "Cost after iteration 670: 0.2644686150831673\n",
      "Cost after iteration 671: 0.26446859476492957\n",
      "Cost after iteration 672: 0.26446857485102476\n",
      "Cost after iteration 673: 0.26446855533340663\n",
      "Cost after iteration 674: 0.26446853620418914\n",
      "Cost after iteration 675: 0.26446851745564304\n",
      "Cost after iteration 676: 0.264468499080193\n",
      "Cost after iteration 677: 0.26446848107041443\n",
      "Cost after iteration 678: 0.26446846341903046\n",
      "Cost after iteration 679: 0.2644684461189091\n",
      "Cost after iteration 680: 0.26446842916306\n",
      "Cost after iteration 681: 0.2644684125446325\n",
      "Cost after iteration 682: 0.26446839625691154\n",
      "Cost after iteration 683: 0.26446838029331626\n",
      "Cost after iteration 684: 0.26446836464739654\n",
      "Cost after iteration 685: 0.2644683493128306\n",
      "Cost after iteration 686: 0.26446833428342253\n",
      "Cost after iteration 687: 0.26446831955309974\n",
      "Cost after iteration 688: 0.26446830511591035\n",
      "Cost after iteration 689: 0.264468290966021\n",
      "Cost after iteration 690: 0.2644682770977145\n",
      "Cost after iteration 691: 0.26446826350538727\n",
      "Cost after iteration 692: 0.2644682501835473\n",
      "Cost after iteration 693: 0.264468237126812\n",
      "Cost after iteration 694: 0.2644682243299057\n",
      "Cost after iteration 695: 0.26446821178765784\n",
      "Cost after iteration 696: 0.2644681994950008\n",
      "Cost after iteration 697: 0.26446818744696754\n",
      "Cost after iteration 698: 0.2644681756386902\n",
      "Cost after iteration 699: 0.26446816406539747\n",
      "Cost after iteration 700: 0.2644681527224133\n",
      "Cost after iteration 701: 0.2644681416051545\n",
      "Cost after iteration 702: 0.2644681307091293\n",
      "Cost after iteration 703: 0.2644681200299349\n",
      "Cost after iteration 704: 0.2644681095632565\n",
      "Cost after iteration 705: 0.264468099304865\n",
      "Cost after iteration 706: 0.26446808925061543\n",
      "Cost after iteration 707: 0.26446807939644545\n",
      "Cost after iteration 708: 0.2644680697383735\n",
      "Cost after iteration 709: 0.26446806027249714\n",
      "Cost after iteration 710: 0.26446805099499165\n",
      "Cost after iteration 711: 0.2644680419021086\n",
      "Cost after iteration 712: 0.26446803299017396\n",
      "Cost after iteration 713: 0.26446802425558685\n",
      "Cost after iteration 714: 0.2644680156948179\n",
      "Cost after iteration 715: 0.2644680073044083\n",
      "Cost after iteration 716: 0.26446799908096785\n",
      "Cost after iteration 717: 0.26446799102117385\n",
      "Cost after iteration 718: 0.26446798312176983\n",
      "Cost after iteration 719: 0.26446797537956385\n",
      "Cost after iteration 720: 0.2644679677914278\n",
      "Cost after iteration 721: 0.2644679603542957\n",
      "Cost after iteration 722: 0.26446795306516246\n",
      "Cost after iteration 723: 0.2644679459210829\n",
      "Cost after iteration 724: 0.26446793891917064\n",
      "Cost after iteration 725: 0.2644679320565965\n",
      "Cost after iteration 726: 0.26446792533058755\n",
      "Cost after iteration 727: 0.2644679187384261\n",
      "Cost after iteration 728: 0.26446791227744865\n",
      "Cost after iteration 729: 0.2644679059450447\n",
      "Cost after iteration 730: 0.26446789973865564\n",
      "Cost after iteration 731: 0.26446789365577367\n",
      "Cost after iteration 732: 0.26446788769394103\n",
      "Cost after iteration 733: 0.26446788185074893\n",
      "Cost after iteration 734: 0.26446787612383627\n",
      "Cost after iteration 735: 0.26446787051088916\n",
      "Cost after iteration 736: 0.26446786500963976\n",
      "Cost after iteration 737: 0.26446785961786523\n",
      "Cost after iteration 738: 0.26446785433338704\n",
      "Cost after iteration 739: 0.26446784915406985\n",
      "Cost after iteration 740: 0.26446784407782115\n",
      "Cost after iteration 741: 0.26446783910258986\n",
      "Cost after iteration 742: 0.26446783422636555\n",
      "Cost after iteration 743: 0.26446782944717817\n",
      "Cost after iteration 744: 0.26446782476309655\n",
      "Cost after iteration 745: 0.26446782017222825\n",
      "Cost after iteration 746: 0.26446781567271815\n",
      "Cost after iteration 747: 0.2644678112627484\n",
      "Cost after iteration 748: 0.26446780694053695\n",
      "Cost after iteration 749: 0.2644678027043375\n",
      "Cost after iteration 750: 0.2644677985524385\n",
      "Cost after iteration 751: 0.26446779448316227\n",
      "Cost after iteration 752: 0.2644677904948646\n",
      "Cost after iteration 753: 0.26446778658593406\n",
      "Cost after iteration 754: 0.2644677827547912\n",
      "Cost after iteration 755: 0.2644677789998881\n",
      "Cost after iteration 756: 0.26446777531970767\n",
      "Cost after iteration 757: 0.2644677717127628\n",
      "Cost after iteration 758: 0.2644677681775961\n",
      "Cost after iteration 759: 0.2644677647127792\n",
      "Cost after iteration 760: 0.26446776131691213\n",
      "Cost after iteration 761: 0.26446775798862293\n",
      "Cost after iteration 762: 0.2644677547265666\n",
      "Cost after iteration 763: 0.26446775152942525\n",
      "Cost after iteration 764: 0.2644677483959069\n",
      "Cost after iteration 765: 0.2644677453247456\n",
      "Cost after iteration 766: 0.2644677423147005\n",
      "Cost after iteration 767: 0.2644677393645552\n",
      "Cost after iteration 768: 0.26446773647311783\n",
      "Cost after iteration 769: 0.26446773363922005\n",
      "Cost after iteration 770: 0.2644677308617169\n",
      "Cost after iteration 771: 0.264467728139486\n",
      "Cost after iteration 772: 0.2644677254714275\n",
      "Cost after iteration 773: 0.26446772285646336\n",
      "Cost after iteration 774: 0.26446772029353705\n",
      "Cost after iteration 775: 0.26446771778161293\n",
      "Cost after iteration 776: 0.26446771531967606\n",
      "Cost after iteration 777: 0.2644677129067318\n",
      "Cost after iteration 778: 0.26446771054180507\n",
      "Cost after iteration 779: 0.2644677082239405\n",
      "Cost after iteration 780: 0.26446770595220137\n",
      "Cost after iteration 781: 0.2644677037256698\n",
      "Cost after iteration 782: 0.2644677015434463\n",
      "Cost after iteration 783: 0.264467699404649\n",
      "Cost after iteration 784: 0.2644676973084137\n",
      "Cost after iteration 785: 0.2644676952538935\n",
      "Cost after iteration 786: 0.26446769324025843\n",
      "Cost after iteration 787: 0.2644676912666945\n",
      "Cost after iteration 788: 0.26446768933240455\n",
      "Cost after iteration 789: 0.264467687436607\n",
      "Cost after iteration 790: 0.2644676855785358\n",
      "Cost after iteration 791: 0.26446768375744023\n",
      "Cost after iteration 792: 0.2644676819725844\n",
      "Cost after iteration 793: 0.2644676802232473\n",
      "Cost after iteration 794: 0.264467678508722\n",
      "Cost after iteration 795: 0.2644676768283157\n",
      "Cost after iteration 796: 0.26446767518134945\n",
      "Cost after iteration 797: 0.2644676735671579\n",
      "Cost after iteration 798: 0.2644676719850887\n",
      "Cost after iteration 799: 0.2644676704345027\n",
      "Cost after iteration 800: 0.2644676689147733\n",
      "Cost after iteration 801: 0.26446766742528666\n",
      "Cost after iteration 802: 0.2644676659654407\n",
      "Cost after iteration 803: 0.26446766453464576\n",
      "Cost after iteration 804: 0.2644676631323236\n",
      "Cost after iteration 805: 0.26446766175790765\n",
      "Cost after iteration 806: 0.2644676604108426\n",
      "Cost after iteration 807: 0.264467659090584\n",
      "Cost after iteration 808: 0.2644676577965987\n",
      "Cost after iteration 809: 0.2644676565283637\n",
      "Cost after iteration 810: 0.2644676552853665\n",
      "Cost after iteration 811: 0.264467654067105\n",
      "Cost after iteration 812: 0.2644676528730868\n",
      "Cost after iteration 813: 0.2644676517028297\n",
      "Cost after iteration 814: 0.2644676505558607\n",
      "Cost after iteration 815: 0.2644676494317163\n",
      "Cost after iteration 816: 0.2644676483299425\n",
      "Cost after iteration 817: 0.26446764725009386\n",
      "Cost after iteration 818: 0.26446764619173435\n",
      "Cost after iteration 819: 0.26446764515443605\n",
      "Cost after iteration 820: 0.26446764413778007\n",
      "Cost after iteration 821: 0.2644676431413556\n",
      "Cost after iteration 822: 0.2644676421647599\n",
      "Cost after iteration 823: 0.2644676412075984\n",
      "Cost after iteration 824: 0.26446764026948444\n",
      "Cost after iteration 825: 0.26446763935003903\n",
      "Cost after iteration 826: 0.2644676384488905\n",
      "Cost after iteration 827: 0.2644676375656748\n",
      "Cost after iteration 828: 0.2644676367000352\n",
      "Cost after iteration 829: 0.26446763585162175\n",
      "Cost after iteration 830: 0.2644676350200918\n",
      "Cost after iteration 831: 0.2644676342051092\n",
      "Cost after iteration 832: 0.2644676334063448\n",
      "Cost after iteration 833: 0.26446763262347583\n",
      "Cost after iteration 834: 0.264467631856186\n",
      "Cost after iteration 835: 0.26446763110416505\n",
      "Cost after iteration 836: 0.2644676303671095\n",
      "Cost after iteration 837: 0.26446762964472137\n",
      "Cost after iteration 838: 0.2644676289367086\n",
      "Cost after iteration 839: 0.26446762824278547\n",
      "Cost after iteration 840: 0.2644676275626713\n",
      "Cost after iteration 841: 0.26446762689609143\n",
      "Cost after iteration 842: 0.2644676262427764\n",
      "Cost after iteration 843: 0.2644676256024625\n",
      "Cost after iteration 844: 0.26446762497489085\n",
      "Cost after iteration 845: 0.26446762435980775\n",
      "Cost after iteration 846: 0.26446762375696486\n",
      "Cost after iteration 847: 0.26446762316611855\n",
      "Cost after iteration 848: 0.26446762258703005\n",
      "Cost after iteration 849: 0.2644676220194654\n",
      "Cost after iteration 850: 0.26446762146319525\n",
      "Cost after iteration 851: 0.26446762091799497\n",
      "Cost after iteration 852: 0.26446762038364413\n",
      "Cost after iteration 853: 0.2644676198599269\n",
      "Cost after iteration 854: 0.26446761934663165\n",
      "Cost after iteration 855: 0.264467618843551\n",
      "Cost after iteration 856: 0.2644676183504816\n",
      "Cost after iteration 857: 0.26446761786722434\n",
      "Cost after iteration 858: 0.26446761739358376\n",
      "Cost after iteration 859: 0.2644676169293688\n",
      "Cost after iteration 860: 0.26446761647439165\n",
      "Cost after iteration 861: 0.26446761602846847\n",
      "Cost after iteration 862: 0.26446761559141924\n",
      "Cost after iteration 863: 0.26446761516306727\n",
      "Cost after iteration 864: 0.26446761474323954\n",
      "Cost after iteration 865: 0.2644676143317664\n",
      "Cost after iteration 866: 0.2644676139284815\n",
      "Cost after iteration 867: 0.26446761353322196\n",
      "Cost after iteration 868: 0.2644676131458281\n",
      "Cost after iteration 869: 0.2644676127661435\n",
      "Cost after iteration 870: 0.2644676123940144\n",
      "Cost after iteration 871: 0.26446761202929087\n",
      "Cost after iteration 872: 0.26446761167182525\n",
      "Cost after iteration 873: 0.26446761132147323\n",
      "Cost after iteration 874: 0.2644676109780931\n",
      "Cost after iteration 875: 0.26446761064154634\n",
      "Cost after iteration 876: 0.26446761031169685\n",
      "Cost after iteration 877: 0.26446760998841135\n",
      "Cost after iteration 878: 0.26446760967155925\n",
      "Cost after iteration 879: 0.26446760936101255\n",
      "Cost after iteration 880: 0.2644676090566456\n",
      "Cost after iteration 881: 0.26446760875833564\n",
      "Cost after iteration 882: 0.264467608465962\n",
      "Cost after iteration 883: 0.2644676081794068\n",
      "Cost after iteration 884: 0.26446760789855384\n",
      "Cost after iteration 885: 0.2644676076232898\n",
      "Cost after iteration 886: 0.2644676073535036\n",
      "Cost after iteration 887: 0.26446760708908623\n",
      "Cost after iteration 888: 0.26446760682993065\n",
      "Cost after iteration 889: 0.26446760657593227\n",
      "Cost after iteration 890: 0.26446760632698857\n",
      "Cost after iteration 891: 0.2644676060829988\n",
      "Cost after iteration 892: 0.26446760584386436\n",
      "Cost after iteration 893: 0.26446760560948884\n",
      "Cost after iteration 894: 0.2644676053797772\n",
      "Cost after iteration 895: 0.26446760515463696\n",
      "Cost after iteration 896: 0.26446760493397703\n",
      "Cost after iteration 897: 0.2644676047177081\n",
      "Cost after iteration 898: 0.26446760450574297\n",
      "Cost after iteration 899: 0.264467604297996\n",
      "Cost after iteration 900: 0.2644676040943831\n",
      "Cost after iteration 901: 0.26446760389482216\n",
      "Cost after iteration 902: 0.2644676036992325\n",
      "Cost after iteration 903: 0.264467603507535\n",
      "Cost after iteration 904: 0.26446760331965236\n",
      "Cost after iteration 905: 0.26446760313550854\n",
      "Cost after iteration 906: 0.26446760295502925\n",
      "Cost after iteration 907: 0.26446760277814146\n",
      "Cost after iteration 908: 0.2644676026047737\n",
      "Cost after iteration 909: 0.264467602434856\n",
      "Cost after iteration 910: 0.2644676022683196\n",
      "Cost after iteration 911: 0.2644676021050973\n",
      "Cost after iteration 912: 0.2644676019451232\n",
      "Cost after iteration 913: 0.26446760178833256\n",
      "Cost after iteration 914: 0.264467601634662\n",
      "Cost after iteration 915: 0.2644676014840495\n",
      "Cost after iteration 916: 0.26446760133643415\n",
      "Cost after iteration 917: 0.26446760119175644\n",
      "Cost after iteration 918: 0.2644676010499577\n",
      "Cost after iteration 919: 0.26446760091098076\n",
      "Cost after iteration 920: 0.26446760077476955\n",
      "Cost after iteration 921: 0.26446760064126895\n",
      "Cost after iteration 922: 0.264467600510425\n",
      "Cost after iteration 923: 0.26446760038218475\n",
      "Cost after iteration 924: 0.2644676002564966\n",
      "Cost after iteration 925: 0.2644676001333096\n",
      "Cost after iteration 926: 0.26446760001257397\n",
      "Cost after iteration 927: 0.26446759989424107\n",
      "Cost after iteration 928: 0.264467599778263\n",
      "Cost after iteration 929: 0.2644675996645928\n",
      "Cost after iteration 930: 0.26446759955318466\n",
      "Cost after iteration 931: 0.2644675994439937\n",
      "Cost after iteration 932: 0.2644675993369754\n",
      "Cost after iteration 933: 0.26446759923208685\n",
      "Cost after iteration 934: 0.26446759912928564\n",
      "Cost after iteration 935: 0.2644675990285301\n",
      "Cost after iteration 936: 0.26446759892977967\n",
      "Cost after iteration 937: 0.2644675988329943\n",
      "Cost after iteration 938: 0.264467598738135\n",
      "Cost after iteration 939: 0.2644675986451634\n",
      "Cost after iteration 940: 0.2644675985540419\n",
      "Cost after iteration 941: 0.2644675984647337\n",
      "Cost after iteration 942: 0.2644675983772028\n",
      "Cost after iteration 943: 0.2644675982914137\n",
      "Cost after iteration 944: 0.2644675982073319\n",
      "Cost after iteration 945: 0.26446759812492326\n",
      "Cost after iteration 946: 0.2644675980441546\n",
      "Cost after iteration 947: 0.2644675979649932\n",
      "Cost after iteration 948: 0.2644675978874071\n",
      "Cost after iteration 949: 0.264467597811365\n",
      "Cost after iteration 950: 0.2644675977368361\n",
      "Cost after iteration 951: 0.26446759766379035\n",
      "Cost after iteration 952: 0.2644675975921982\n",
      "Cost after iteration 953: 0.26446759752203075\n",
      "Cost after iteration 954: 0.26446759745325954\n",
      "Cost after iteration 955: 0.26446759738585707\n",
      "Cost after iteration 956: 0.26446759731979574\n",
      "Cost after iteration 957: 0.2644675972550491\n",
      "Cost after iteration 958: 0.2644675971915909\n",
      "Cost after iteration 959: 0.2644675971293955\n",
      "Cost after iteration 960: 0.26446759706843775\n",
      "Cost after iteration 961: 0.26446759700869316\n",
      "Cost after iteration 962: 0.2644675969501374\n",
      "Cost after iteration 963: 0.2644675968927469\n",
      "Cost after iteration 964: 0.26446759683649856\n",
      "Cost after iteration 965: 0.26446759678136955\n",
      "Cost after iteration 966: 0.26446759672733766\n",
      "Cost after iteration 967: 0.2644675966743809\n",
      "Cost after iteration 968: 0.264467596622478\n",
      "Cost after iteration 969: 0.2644675965716079\n",
      "Cost after iteration 970: 0.26446759652175017\n",
      "Cost after iteration 971: 0.26446759647288465\n",
      "Cost after iteration 972: 0.2644675964249915\n",
      "Cost after iteration 973: 0.2644675963780515\n",
      "Cost after iteration 974: 0.2644675963320455\n",
      "Cost after iteration 975: 0.2644675962869551\n",
      "Cost after iteration 976: 0.26446759624276195\n",
      "Cost after iteration 977: 0.2644675961994483\n",
      "Cost after iteration 978: 0.26446759615699655\n",
      "Cost after iteration 979: 0.2644675961153896\n",
      "Cost after iteration 980: 0.2644675960746106\n",
      "Cost after iteration 981: 0.2644675960346431\n",
      "Cost after iteration 982: 0.26446759599547104\n",
      "Cost after iteration 983: 0.2644675959570784\n",
      "Cost after iteration 984: 0.26446759591944985\n",
      "Cost after iteration 985: 0.26446759588257013\n",
      "Cost after iteration 986: 0.26446759584642426\n",
      "Cost after iteration 987: 0.26446759581099766\n",
      "Cost after iteration 988: 0.26446759577627604\n",
      "Cost after iteration 989: 0.26446759574224543\n",
      "Cost after iteration 990: 0.26446759570889206\n",
      "Cost after iteration 991: 0.2644675956762023\n",
      "Cost after iteration 992: 0.2644675956441632\n",
      "Cost after iteration 993: 0.2644675956127617\n",
      "Cost after iteration 994: 0.26446759558198496\n",
      "Cost after iteration 995: 0.2644675955518208\n",
      "Cost after iteration 996: 0.2644675955222568\n",
      "Cost after iteration 997: 0.26446759549328114\n",
      "Cost after iteration 998: 0.2644675954648822\n",
      "Cost after iteration 999: 0.26446759543704823\n",
      "Gradient descent result: m_min = 0.85759483417387, b_min = 5.528910662633283e-17\n"
     ]
    }
   ],
   "source": [
    "import numpy as np\n",
    "\n",
    "# Define the cost function E(m, b, X, Y)\n",
    "def E(m, b, X, Y):\n",
    "    return np.mean((m * X + b - Y) ** 2)\n",
    "\n",
    "# Gradient functions\n",
    "def dEdm(m, b, X, Y):\n",
    "    return (1 / len(Y)) * np.sum((m * X + b - Y) * X)\n",
    "\n",
    "def dEdb(m, b, X, Y):\n",
    "    return (1 / len(Y)) * np.sum(m * X + b - Y)\n",
    "\n",
    "# Gradient descent implementation\n",
    "def gradient_descent(dEdm, dEdb, m, b, X, Y, learning_rate=0.001, num_iterations=1000, print_cost=False):\n",
    "    for iteration in range(num_iterations):\n",
    "        ### START CODE HERE ### (~ 2 lines of code)\n",
    "        m_new = m - learning_rate * dEdm(m, b, X, Y)  # Update m\n",
    "        b_new = b - learning_rate * dEdb(m, b, X, Y)  # Update b\n",
    "        ### END CODE HERE ###\n",
    "\n",
    "        # Update parameters\n",
    "        m = m_new\n",
    "        b = b_new\n",
    "\n",
    "        if print_cost:\n",
    "            print(f\"Cost after iteration {iteration}: {E(m, b, X, Y)}\")\n",
    "\n",
    "    return m, b\n",
    "\n",
    "\n",
    "# My data\n",
    "X = np.array([230.1, 44.5, 17.2, 151.5, 180.8])  # TV marketing expenses\n",
    "Y = np.array([22.1, 10.4, 9.3, 18.5, 12.9])       # Sales\n",
    "\n",
    "# Normalize the data\n",
    "X_mean = np.mean(X)\n",
    "X_std = np.std(X)\n",
    "X_norm = (X - X_mean) / X_std\n",
    "\n",
    "Y_mean = np.mean(Y)\n",
    "Y_std = np.std(Y)\n",
    "Y_norm = (Y - Y_mean) / Y_std\n",
    "\n",
    "# Initialize parameters\n",
    "m_initial = 0\n",
    "b_initial = 0\n",
    "num_iterations = 1000\n",
    "learning_rate = 0.01  # Adjusted learning rate\n",
    "\n",
    "# Perform gradient descent\n",
    "m_gd, b_gd = gradient_descent(dEdm, dEdb, m_initial, b_initial,\n",
    "                              X_norm, Y_norm, learning_rate, num_iterations, print_cost=True)\n",
    "\n",
    "# Print results\n",
    "print(f\"Gradient descent result: m_min = {m_gd}, b_min = {b_gd}\")\n"
   ]
  },
  {
   "cell_type": "code",
   "execution_count": null,
   "metadata": {
    "colab": {
     "base_uri": "https://localhost:8080/"
    },
    "id": "WfpdIElY6rP-",
    "outputId": "ff8d2359-1020-4218-bc49-57fc8d5a8f1d"
   },
   "outputs": [
    {
     "name": "stdout",
     "output_type": "stream",
     "text": [
      "(0.5422845484413322, -4.3298697960382076e-19)\n",
      "(0.9863870537929061, 4.521910375044022)\n"
     ]
    }
   ],
   "source": [
    "print(gradient_descent(dEdm, dEdb, 0, 0, X_norm, Y_norm))\n",
    "print(gradient_descent(dEdm, dEdb, 1, 5, X_norm, Y_norm, learning_rate = 0.01, num_iterations = 10))"
   ]
  },
  {
   "cell_type": "markdown",
   "metadata": {
    "id": "NmAdIeun6rP_"
   },
   "source": [
    "##### __Expected Output__\n",
    "\n",
    "```Python\n",
    "(0.49460408269589495, -3.489285249624889e-16)\n",
    "(0.9791767513915026, 4.521910375044022)\n",
    "```"
   ]
  },
  {
   "cell_type": "code",
   "execution_count": null,
   "metadata": {
    "colab": {
     "base_uri": "https://localhost:8080/"
    },
    "id": "bsqAoog36rP_",
    "outputId": "61d84712-fe25-46f9-d974-fd26f370e3a1"
   },
   "outputs": [
    {
     "name": "stdout",
     "output_type": "stream",
     "text": [
      "Test case \"default_check\". Wrong output value m of the function gradient_descent.\n",
      "m = 0, b = 0, learning_rate = 0.001, num_iterations = 1000. \n",
      "\tExpected: \n",
      "0.49460408269589484\n",
      "\tGot: \n",
      "0.5422845484413322\n",
      "Test case \"extra_check\". Wrong output value m of the function gradient_descent.\n",
      "m = 1, b = 5, learning_rate = 0.01, num_iterations = 10. \n",
      "\tExpected: \n",
      "0.9791767513915026\n",
      "\tGot: \n",
      "0.9863870537929061\n",
      "\u001b[92m 2  Tests passed\n",
      "\u001b[91m 2  Tests failed\n"
     ]
    }
   ],
   "source": [
    "w2_unittest.test_gradient_descent(gradient_descent, dEdm, dEdb, X_norm, Y_norm)"
   ]
  },
  {
   "cell_type": "markdown",
   "metadata": {
    "id": "9WQKNwAy6rP_"
   },
   "source": [
    "Now run the gradient descent method starting from the initial point $\\left(m_0, b_0\\right)=\\left(0, 0\\right)$."
   ]
  },
  {
   "cell_type": "code",
   "execution_count": null,
   "metadata": {
    "colab": {
     "base_uri": "https://localhost:8080/"
    },
    "id": "Q6Sp5UuW6rP_",
    "outputId": "00d0aae7-cf93-4d7c-80c2-c1c8ab11ac14"
   },
   "outputs": [
    {
     "name": "stdout",
     "output_type": "stream",
     "text": [
      "Cost after iteration 0: 0.2938888903035471\n",
      "Cost after iteration 1: 0.26564444591568903\n",
      "Cost after iteration 2: 0.26451466814017466\n",
      "Cost after iteration 3: 0.2644694770291541\n",
      "Cost after iteration 4: 0.2644676693847132\n",
      "Cost after iteration 5: 0.2644675970789356\n",
      "Cost after iteration 6: 0.2644675941867045\n",
      "Cost after iteration 7: 0.2644675940710153\n",
      "Cost after iteration 8: 0.26446759406638765\n",
      "Cost after iteration 9: 0.26446759406620257\n",
      "Cost after iteration 10: 0.2644675940661952\n",
      "Cost after iteration 11: 0.2644675940661949\n",
      "Cost after iteration 12: 0.2644675940661949\n",
      "Cost after iteration 13: 0.26446759406619486\n",
      "Cost after iteration 14: 0.2644675940661949\n",
      "Cost after iteration 15: 0.26446759406619497\n",
      "Cost after iteration 16: 0.26446759406619486\n",
      "Cost after iteration 17: 0.2644675940661949\n",
      "Cost after iteration 18: 0.2644675940661949\n",
      "Cost after iteration 19: 0.26446759406619486\n",
      "Cost after iteration 20: 0.26446759406619486\n",
      "Cost after iteration 21: 0.26446759406619486\n",
      "Cost after iteration 22: 0.26446759406619486\n",
      "Cost after iteration 23: 0.26446759406619486\n",
      "Cost after iteration 24: 0.26446759406619486\n",
      "Cost after iteration 25: 0.2644675940661949\n",
      "Cost after iteration 26: 0.2644675940661949\n",
      "Cost after iteration 27: 0.2644675940661949\n",
      "Cost after iteration 28: 0.2644675940661949\n",
      "Cost after iteration 29: 0.2644675940661949\n",
      "Gradient descent result: m_min, b_min = 0.8576318592110516, 1.06581410364015e-16\n"
     ]
    }
   ],
   "source": [
    "m_initial = 0; b_initial = 0; num_iterations = 30; learning_rate = 1.2\n",
    "m_gd, b_gd = gradient_descent(dEdm, dEdb, m_initial, b_initial,\n",
    "                              X_norm, Y_norm, learning_rate, num_iterations, print_cost=True)\n",
    "\n",
    "print(f\"Gradient descent result: m_min, b_min = {m_gd}, {b_gd}\")"
   ]
  },
  {
   "cell_type": "markdown",
   "metadata": {
    "id": "GTMtJfMH6rP_"
   },
   "source": [
    "Remember, that the initial datasets were normalized. To make the predictions, you need to normalize `X_pred` array, calculate `Y_pred` with the linear regression coefficients `m_gd`, `b_gd` and then **denormalize** the result (perform the reverse process of normalization):"
   ]
  },
  {
   "cell_type": "code",
   "execution_count": null,
   "metadata": {
    "colab": {
     "base_uri": "https://localhost:8080/"
    },
    "id": "MHEZXA4A6rP_",
    "outputId": "eb501aad-5bf4-4a47-be12-73a7878b0d38"
   },
   "outputs": [
    {
     "name": "stdout",
     "output_type": "stream",
     "text": [
      "TV marketing expenses:\n",
      "[ 50 120 280]\n",
      "Predictions of sales using Scikit_Learn linear regression:\n",
      "[[ 9.40942557 12.7369904  20.34285287]]\n",
      "Predictions of sales using Gradient Descent:\n",
      "[10.76718056 14.39050802 22.67239937]\n"
     ]
    }
   ],
   "source": [
    "X_pred = np.array([50, 120, 280])\n",
    "# Use the same mean and standard deviation of the original training array X\n",
    "X_pred_norm = (X_pred - np.mean(X))/np.std(X)\n",
    "Y_pred_gd_norm = m_gd * X_pred_norm + b_gd\n",
    "# Use the same mean and standard deviation of the original training array Y\n",
    "Y_pred_gd = Y_pred_gd_norm * np.std(Y) + np.mean(Y)\n",
    "\n",
    "print(f\"TV marketing expenses:\\n{X_pred}\")\n",
    "print(f\"Predictions of sales using Scikit_Learn linear regression:\\n{Y_pred_sklearn.T}\")\n",
    "print(f\"Predictions of sales using Gradient Descent:\\n{Y_pred_gd}\")"
   ]
  },
  {
   "cell_type": "markdown",
   "metadata": {
    "id": "LW17vVJdQXe_"
   },
   "source": []
  },
  {
   "cell_type": "markdown",
   "metadata": {
    "id": "QYwL70WkQXWj"
   },
   "source": []
  },
  {
   "cell_type": "code",
   "execution_count": null,
   "metadata": {
    "colab": {
     "base_uri": "https://localhost:8080/"
    },
    "id": "L9mgBQo67mUR",
    "outputId": "41fc16a7-820d-441e-f426-86881d713e7b"
   },
   "outputs": [
    {
     "name": "stdout",
     "output_type": "stream",
     "text": [
      "Requirement already satisfied: fastapi in /usr/local/lib/python3.10/dist-packages (0.115.4)\n",
      "Requirement already satisfied: uvicorn in /usr/local/lib/python3.10/dist-packages (0.32.0)\n",
      "Requirement already satisfied: starlette<0.42.0,>=0.40.0 in /usr/local/lib/python3.10/dist-packages (from fastapi) (0.41.2)\n",
      "Requirement already satisfied: pydantic!=1.8,!=1.8.1,!=2.0.0,!=2.0.1,!=2.1.0,<3.0.0,>=1.7.4 in /usr/local/lib/python3.10/dist-packages (from fastapi) (2.9.2)\n",
      "Requirement already satisfied: typing-extensions>=4.8.0 in /usr/local/lib/python3.10/dist-packages (from fastapi) (4.12.2)\n",
      "Requirement already satisfied: click>=7.0 in /usr/local/lib/python3.10/dist-packages (from uvicorn) (8.1.7)\n",
      "Requirement already satisfied: h11>=0.8 in /usr/local/lib/python3.10/dist-packages (from uvicorn) (0.14.0)\n",
      "Requirement already satisfied: annotated-types>=0.6.0 in /usr/local/lib/python3.10/dist-packages (from pydantic!=1.8,!=1.8.1,!=2.0.0,!=2.0.1,!=2.1.0,<3.0.0,>=1.7.4->fastapi) (0.7.0)\n",
      "Requirement already satisfied: pydantic-core==2.23.4 in /usr/local/lib/python3.10/dist-packages (from pydantic!=1.8,!=1.8.1,!=2.0.0,!=2.0.1,!=2.1.0,<3.0.0,>=1.7.4->fastapi) (2.23.4)\n",
      "Requirement already satisfied: anyio<5,>=3.4.0 in /usr/local/lib/python3.10/dist-packages (from starlette<0.42.0,>=0.40.0->fastapi) (3.7.1)\n",
      "Requirement already satisfied: idna>=2.8 in /usr/local/lib/python3.10/dist-packages (from anyio<5,>=3.4.0->starlette<0.42.0,>=0.40.0->fastapi) (3.10)\n",
      "Requirement already satisfied: sniffio>=1.1 in /usr/local/lib/python3.10/dist-packages (from anyio<5,>=3.4.0->starlette<0.42.0,>=0.40.0->fastapi) (1.3.1)\n",
      "Requirement already satisfied: exceptiongroup in /usr/local/lib/python3.10/dist-packages (from anyio<5,>=3.4.0->starlette<0.42.0,>=0.40.0->fastapi) (1.2.2)\n",
      "Requirement already satisfied: pydantic in /usr/local/lib/python3.10/dist-packages (2.9.2)\n",
      "Requirement already satisfied: annotated-types>=0.6.0 in /usr/local/lib/python3.10/dist-packages (from pydantic) (0.7.0)\n",
      "Requirement already satisfied: pydantic-core==2.23.4 in /usr/local/lib/python3.10/dist-packages (from pydantic) (2.23.4)\n",
      "Requirement already satisfied: typing-extensions>=4.6.1 in /usr/local/lib/python3.10/dist-packages (from pydantic) (4.12.2)\n",
      "Requirement already satisfied: nest-asyncio in /usr/local/lib/python3.10/dist-packages (1.6.0)\n",
      "Requirement already satisfied: fastapi[stadard] in /usr/local/lib/python3.10/dist-packages (0.115.4)\n",
      "\u001b[33mWARNING: fastapi 0.115.4 does not provide the extra 'stadard'\u001b[0m\u001b[33m\n",
      "\u001b[0mRequirement already satisfied: starlette<0.42.0,>=0.40.0 in /usr/local/lib/python3.10/dist-packages (from fastapi[stadard]) (0.41.2)\n",
      "Requirement already satisfied: pydantic!=1.8,!=1.8.1,!=2.0.0,!=2.0.1,!=2.1.0,<3.0.0,>=1.7.4 in /usr/local/lib/python3.10/dist-packages (from fastapi[stadard]) (2.9.2)\n",
      "Requirement already satisfied: typing-extensions>=4.8.0 in /usr/local/lib/python3.10/dist-packages (from fastapi[stadard]) (4.12.2)\n",
      "Requirement already satisfied: annotated-types>=0.6.0 in /usr/local/lib/python3.10/dist-packages (from pydantic!=1.8,!=1.8.1,!=2.0.0,!=2.0.1,!=2.1.0,<3.0.0,>=1.7.4->fastapi[stadard]) (0.7.0)\n",
      "Requirement already satisfied: pydantic-core==2.23.4 in /usr/local/lib/python3.10/dist-packages (from pydantic!=1.8,!=1.8.1,!=2.0.0,!=2.0.1,!=2.1.0,<3.0.0,>=1.7.4->fastapi[stadard]) (2.23.4)\n",
      "Requirement already satisfied: anyio<5,>=3.4.0 in /usr/local/lib/python3.10/dist-packages (from starlette<0.42.0,>=0.40.0->fastapi[stadard]) (3.7.1)\n",
      "Requirement already satisfied: idna>=2.8 in /usr/local/lib/python3.10/dist-packages (from anyio<5,>=3.4.0->starlette<0.42.0,>=0.40.0->fastapi[stadard]) (3.10)\n",
      "Requirement already satisfied: sniffio>=1.1 in /usr/local/lib/python3.10/dist-packages (from anyio<5,>=3.4.0->starlette<0.42.0,>=0.40.0->fastapi[stadard]) (1.3.1)\n",
      "Requirement already satisfied: exceptiongroup in /usr/local/lib/python3.10/dist-packages (from anyio<5,>=3.4.0->starlette<0.42.0,>=0.40.0->fastapi[stadard]) (1.2.2)\n"
     ]
    }
   ],
   "source": [
    "# Install FastAPI and Uvicorn for serving the application\n",
    "!pip install fastapi uvicorn\n",
    "\n",
    "# Install Pydantic for data validation\n",
    "!pip install pydantic\n",
    "\n",
    "!pip install nest-asyncio\n",
    "\n",
    "!pip install \"fastapi[stadard]\"\n"
   ]
  },
  {
   "cell_type": "code",
   "execution_count": null,
   "metadata": {
    "id": "E44jw80DeAN3"
   },
   "outputs": [],
   "source": [
    "#What imports do we need for Fast api\n",
    "from fastapi import Depends, FastAPI, Header, HTTPException\n",
    "import uvicorn\n",
    "import nest_asyncio\n"
   ]
  },
  {
   "cell_type": "code",
   "execution_count": null,
   "metadata": {
    "colab": {
     "base_uri": "https://localhost:8080/"
    },
    "id": "YR-2X9if8OQT",
    "outputId": "360609f5-c266-4766-f529-3e6657c7d982"
   },
   "outputs": [
    {
     "name": "stderr",
     "output_type": "stream",
     "text": [
      "INFO:     Started server process [850]\n",
      "INFO:     Waiting for application startup.\n",
      "INFO:     Application startup complete.\n",
      "INFO:     Uvicorn running on http://0.0.0.0:8000 (Press CTRL+C to quit)\n"
     ]
    }
   ],
   "source": [
    "#What imports do we need for Fast api\n",
    "import nest_asyncio\n",
    "import pandas as pd\n",
    "from fastapi import FastAPI, Body\n",
    "from pydantic import BaseModel\n",
    "\n",
    "# Load your pre-trained linear regression model (replace with your actual model loading logic)\n",
    "from sklearn.linear_model import LinearRegression  # Assuming you're using sklearn.linear_model\n",
    "lr_sklearn = LinearRegression()  # Load the model here (adjust based on your model type)\n",
    "\n",
    "class TVSalesRequest(BaseModel):\n",
    "  tv_ad_budget: float = Body(..., description=\"TV ad budget for prediction.\")\n",
    "\n",
    "app = FastAPI()\n",
    "\n",
    "# Apply nest_asyncio to allow asynchronous operations within FastAPI\n",
    "nest_asyncio.apply()\n",
    "\n",
    "@app.get(\"/\")\n",
    "async def predict_fast_api(request: TVSalesRequest):\n",
    "  \"\"\"\n",
    "  This endpoint predicts TV sales based on the provided TV ad budget.\n",
    "  \"\"\"\n",
    "  data = pd.DataFrame({'TV': [request.tv_ad_budget]})\n",
    "  tv_sales = lr_sklearn.predict(data)[0]  # Accessing the predicted value\n",
    "  return {\"tv_sales\": tv_sales}\n",
    "\n",
    "if __name__ == \"__main__\":\n",
    "    host = \"0.0.0.0\"  # Listening on all interfaces for remote access\n",
    "    port = 8000\n",
    "    uvicorn.run(app, host=host, port=port)"
   ]
  },
  {
   "cell_type": "markdown",
   "metadata": {
    "id": "epAzrEB46rP_"
   },
   "source": [
    "You should have gotten similar results as in the previous sections.\n",
    "\n",
    "Well done! Now you know how gradient descent algorithm can be applied to train a real model. Re-producing results manually for a simple case should give you extra confidence that you understand what happends under the hood of commonly used functions."
   ]
  },
  {
   "cell_type": "code",
   "execution_count": null,
   "metadata": {
    "id": "fB7MEAYT6rP_"
   },
   "outputs": [],
   "source": []
  }
 ],
 "metadata": {
  "accelerator": "GPU",
  "colab": {
   "provenance": []
  },
  "coursera": {
   "schema_names": [
    "AI4MC1-1"
   ]
  },
  "grader_version": "1",
  "kernelspec": {
   "display_name": "Python 3",
   "language": "python",
   "name": "python3"
  },
  "language_info": {
   "codemirror_mode": {
    "name": "ipython",
    "version": 3
   },
   "file_extension": ".py",
   "mimetype": "text/x-python",
   "name": "python",
   "nbconvert_exporter": "python",
   "pygments_lexer": "ipython3",
   "version": "3.10.12"
  },
  "toc": {
   "base_numbering": 1,
   "nav_menu": {},
   "number_sections": true,
   "sideBar": true,
   "skip_h1_title": false,
   "title_cell": "Table of Contents",
   "title_sidebar": "Contents",
   "toc_cell": false,
   "toc_position": {},
   "toc_section_display": true,
   "toc_window_display": false
  },
  "vscode": {
   "interpreter": {
    "hash": "478841ab876a4250505273c8a697bbc1b6b194054b009c227dc606f17fb56272"
   }
  }
 },
 "nbformat": 4,
 "nbformat_minor": 0
}
